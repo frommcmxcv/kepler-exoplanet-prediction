{
 "cells": [
  {
   "cell_type": "markdown",
   "metadata": {},
   "source": [
    "# **Chapter 1: Introduction**"
   ]
  },
  {
   "cell_type": "code",
   "execution_count": 2,
   "metadata": {},
   "outputs": [
    {
     "name": "stdout",
     "output_type": "stream",
     "text": [
      "===============================================================================================\n",
      "\n",
      "Hello! The following project was conducted to create a Machine Learning classification model \n",
      "that helps identifying whether Kepler’s objects of interest are exoplanets or not.\n",
      "This project is driven by human's pursuit to find a potential future home besides of\n",
      "Earth as the planet becomes more uninhabitable in the distant future.\n",
      "\n",
      "The dataset is downloaded from Kaggle, which originally sourced from NASA Exoplanet Archive.\n",
      "\n",
      "Throughout this analysis, several models are tested to find the best fitted model. The best\n",
      "model will then be tuned to reach an even higher accuracy score.\n",
      "\n",
      "===============================================================================================\n",
      "\n"
     ]
    }
   ],
   "source": [
    "print(\"===============================================================================================\\n\")\n",
    "print(\"Hello! The following project was conducted to create a Machine Learning classification model \")\n",
    "print(\"that helps identifying whether Kepler’s objects of interest are exoplanets or not.\")\n",
    "print(\"This project is driven by human's pursuit to find a potential future home besides of\")\n",
    "print(\"Earth as the planet becomes more uninhabitable in the distant future.\\n\")\n",
    "print(\"The dataset is downloaded from Kaggle, which originally sourced from NASA Exoplanet Archive.\\n\")\n",
    "print(\"Throughout this analysis, several models are tested to find the best fitted model. The best\")\n",
    "print(\"model will then be tuned to reach an even higher accuracy score.\\n\")\n",
    "print(\"===============================================================================================\\n\")"
   ]
  },
  {
   "cell_type": "markdown",
   "metadata": {},
   "source": [
    "# **Chapter 2: Background**"
   ]
  },
  {
   "cell_type": "markdown",
   "metadata": {},
   "source": [
    "**Background:**\n",
    "\n",
    "The search for habitable planets besides our own has captivated humanity for decades. Whether driven \n",
    "by curiosity about extraterrestrial life or the need for a potential future home, this pursuit has gained \n",
    "urgency as Earth's resources face increasing strain. Climate change, pollution, and resource depletion \n",
    "threaten the planet's habitability, while the distant future holds the inevitability of the Sun expanding \n",
    "into a red giant, making Earth uninhabitable. NASA’s goal these days is to find unmistakable signs of \n",
    "current life outside of Earth. \n",
    "\n",
    "\n",
    "Kepler space telescope was launched in 2009 with the purpose of searching for exoplanets, especially \n",
    "those in the habitable zone of their stars. The spacecraft, although officially retired in 2018, collected \n",
    "an immense amount of data which continues to be analysed to this day. This project focuses on \n",
    "classifying Kepler’s objects of interest (KOIs) as either exoplanets, candidate of exoplanets, or false positives caused by phenomena like binary stars or noise.  "
   ]
  },
  {
   "cell_type": "markdown",
   "metadata": {},
   "source": [
    "**Objective:**\n",
    "\n",
    "Develop a machine learning classification model to identify whether Kepler’s object of interest is \n",
    "exoplanet, candidate of exoplanet, or not."
   ]
  },
  {
   "cell_type": "markdown",
   "metadata": {},
   "source": [
    "**User:**\n",
    "\n",
    "NASA Scientist"
   ]
  },
  {
   "cell_type": "markdown",
   "metadata": {},
   "source": [
    "# **Chapter 3: Import Libraries**"
   ]
  },
  {
   "cell_type": "code",
   "execution_count": 2,
   "metadata": {},
   "outputs": [],
   "source": [
    "# Step 1: Import all libraries\n",
    "\n",
    "\n",
    "## Libraries for data manipulation\n",
    "import pandas as pd\n",
    "import numpy as np\n",
    "\n",
    "\n",
    "## Libraries for visualization\n",
    "import matplotlib.pyplot as plt\n",
    "import seaborn as sns\n",
    "\n",
    "\n",
    "## Libraries for Feature Engineering\n",
    "import sklearn\n",
    "from scipy.stats import spearmanr, chi2_contingency\n",
    "\n",
    "from sklearn.model_selection import train_test_split\n",
    "# Used to divide train and test\n",
    "\n",
    "from sklearn.linear_model import LogisticRegression\n",
    "# Library to define and create model LogisticRegression\n",
    "\n",
    "from sklearn.preprocessing import StandardScaler, MinMaxScaler, RobustScaler\n",
    "# StandardScaler: Standardizes features by removing the mean and scaling to unit variance\n",
    "# MinMaxScaler: Scales features to a specified range, usually between 0 and 1\n",
    "# RobustScaler: Scales features using statistics that are robust to outliers (e.g., median and IQR)\n",
    "\n",
    "from sklearn.preprocessing import OneHotEncoder, LabelEncoder, OrdinalEncoder\n",
    "# OneHotEncoder: Converts categorical variables into binary (one-hot) encoded format\n",
    "# LabelEncoder: Encodes target labels with values between 0 and n_classes-1, best for tree-based model\n",
    "# OrdinalEncoder: Encodes target with hierachichal values\n",
    "\n",
    "from sklearn.compose import ColumnTransformer, make_column_selector as selector\n",
    "# Pipeline helper\n",
    "# ColumnTransformer: Applies different preprocessing steps to specific columns\n",
    "# selector: To select specific types of columns (e.g., numerical or categorical)\n",
    "\n",
    "from sklearn.pipeline import Pipeline\n",
    "# Pipeline: Chains multiple preprocessing steps and a model into a single workflow\n",
    "\n",
    "from sklearn.neighbors import KNeighborsClassifier\n",
    "# Pipeline: K-Nearest Neighbors classifier\n",
    "\n",
    "from sklearn.svm import SVC\n",
    "# Pipeline: Support Vector Machines\n",
    "\n",
    "from sklearn.tree import DecisionTreeClassifier\n",
    "# DecisionTreeClassifier: A tree-based model used for classification tasks\n",
    "\n",
    "from sklearn.linear_model import LogisticRegression\n",
    "# LogisticRegression: A linear model used for binary and multiclass classification\n",
    "\n",
    "from sklearn.ensemble import RandomForestClassifier\n",
    "# RandomForestClassifier: An ensemble learning method that uses multiple decision trees to improve classification performance\n",
    "\n",
    "from xgboost import XGBClassifier\n",
    "# XGBClassifier: An ensemble learning method that focusing on correcting the errors of previous ones\n",
    "\n",
    "from sklearn.model_selection import GridSearchCV\n",
    "# GridSearchCV: Automates hyperparameter tuning by exhaustively tries every combination of hyperparameters from a grid\n",
    "\n",
    "from sklearn.metrics import classification_report, accuracy_score, confusion_matrix, roc_auc_score, f1_score, make_scorer\n",
    "# classification_report: Summarizes precision, recall, F1-score, and support for each class\n",
    "# accuracy_score: Measures the proportion of correctly predicted samples\n",
    "# confusion_matrix: Creates a table to show actual vs predicted class counts\n",
    "# roc_auc_score: Computes the area under the ROC curve\n",
    "# f1_score: Balances precision and recall by calculating their harmonic mean\n",
    "\n",
    "from imblearn.pipeline import Pipeline\n",
    "# pipeline for imbalance\n",
    "\n",
    "from imblearn.over_sampling import SMOTE, SMOTENC\n",
    "# handle imbalance of train data\n",
    "\n",
    "\n",
    "## Libraries for model evaluation and validation\n",
    "from sklearn.model_selection import cross_val_score, StratifiedKFold, learning_curve\n",
    "# cross_val_score: Evaluates a model using cross-validation (folds)\n",
    "# StratifiedKFold: Ensures that each fold in cross-validation contains a proportional representation of each class\n",
    "# learning_curve: Generates data to plot a learning curve, which shows how the model's performance changes as the training dataset size increases\n",
    "\n",
    "from sklearn.utils import shuffle\n",
    "# shuffle: Randomizes the order of data to reduce bias during training\n",
    "\n",
    "\n",
    "## Library to save model\n",
    "import pickle\n"
   ]
  },
  {
   "cell_type": "markdown",
   "metadata": {},
   "source": [
    "# **Chapter 4: Data Loading & Data Wrangling**"
   ]
  },
  {
   "cell_type": "markdown",
   "metadata": {},
   "source": [
    "## **4.1. Data Loading**"
   ]
  },
  {
   "cell_type": "code",
   "execution_count": 3,
   "metadata": {},
   "outputs": [
    {
     "data": {
      "text/html": [
       "<div>\n",
       "<style scoped>\n",
       "    .dataframe tbody tr th:only-of-type {\n",
       "        vertical-align: middle;\n",
       "    }\n",
       "\n",
       "    .dataframe tbody tr th {\n",
       "        vertical-align: top;\n",
       "    }\n",
       "\n",
       "    .dataframe thead th {\n",
       "        text-align: right;\n",
       "    }\n",
       "</style>\n",
       "<table border=\"1\" class=\"dataframe\">\n",
       "  <thead>\n",
       "    <tr style=\"text-align: right;\">\n",
       "      <th></th>\n",
       "      <th>rowid</th>\n",
       "      <th>kepid</th>\n",
       "      <th>kepoi_name</th>\n",
       "      <th>kepler_name</th>\n",
       "      <th>koi_disposition</th>\n",
       "      <th>koi_pdisposition</th>\n",
       "      <th>koi_score</th>\n",
       "      <th>koi_fpflag_nt</th>\n",
       "      <th>koi_fpflag_ss</th>\n",
       "      <th>koi_fpflag_co</th>\n",
       "      <th>koi_fpflag_ec</th>\n",
       "      <th>koi_period</th>\n",
       "      <th>koi_period_err1</th>\n",
       "      <th>koi_period_err2</th>\n",
       "      <th>koi_time0bk</th>\n",
       "      <th>koi_time0bk_err1</th>\n",
       "      <th>koi_time0bk_err2</th>\n",
       "      <th>koi_impact</th>\n",
       "      <th>koi_impact_err1</th>\n",
       "      <th>koi_impact_err2</th>\n",
       "      <th>koi_duration</th>\n",
       "      <th>koi_duration_err1</th>\n",
       "      <th>koi_duration_err2</th>\n",
       "      <th>koi_depth</th>\n",
       "      <th>koi_depth_err1</th>\n",
       "      <th>koi_depth_err2</th>\n",
       "      <th>koi_prad</th>\n",
       "      <th>koi_prad_err1</th>\n",
       "      <th>koi_prad_err2</th>\n",
       "      <th>koi_teq</th>\n",
       "      <th>koi_teq_err1</th>\n",
       "      <th>koi_teq_err2</th>\n",
       "      <th>koi_insol</th>\n",
       "      <th>koi_insol_err1</th>\n",
       "      <th>koi_insol_err2</th>\n",
       "      <th>koi_model_snr</th>\n",
       "      <th>koi_tce_plnt_num</th>\n",
       "      <th>koi_tce_delivname</th>\n",
       "      <th>koi_steff</th>\n",
       "      <th>koi_steff_err1</th>\n",
       "      <th>koi_steff_err2</th>\n",
       "      <th>koi_slogg</th>\n",
       "      <th>koi_slogg_err1</th>\n",
       "      <th>koi_slogg_err2</th>\n",
       "      <th>koi_srad</th>\n",
       "      <th>koi_srad_err1</th>\n",
       "      <th>koi_srad_err2</th>\n",
       "      <th>ra</th>\n",
       "      <th>dec</th>\n",
       "      <th>koi_kepmag</th>\n",
       "    </tr>\n",
       "  </thead>\n",
       "  <tbody>\n",
       "    <tr>\n",
       "      <th>0</th>\n",
       "      <td>1</td>\n",
       "      <td>10797460</td>\n",
       "      <td>K00752.01</td>\n",
       "      <td>Kepler-227 b</td>\n",
       "      <td>CONFIRMED</td>\n",
       "      <td>CANDIDATE</td>\n",
       "      <td>1.000</td>\n",
       "      <td>0</td>\n",
       "      <td>0</td>\n",
       "      <td>0</td>\n",
       "      <td>0</td>\n",
       "      <td>9.488036</td>\n",
       "      <td>2.775000e-05</td>\n",
       "      <td>-2.775000e-05</td>\n",
       "      <td>170.538750</td>\n",
       "      <td>0.002160</td>\n",
       "      <td>-0.002160</td>\n",
       "      <td>0.146</td>\n",
       "      <td>0.318</td>\n",
       "      <td>-0.146</td>\n",
       "      <td>2.95750</td>\n",
       "      <td>0.08190</td>\n",
       "      <td>-0.08190</td>\n",
       "      <td>615.8</td>\n",
       "      <td>19.5</td>\n",
       "      <td>-19.5</td>\n",
       "      <td>2.26</td>\n",
       "      <td>0.26</td>\n",
       "      <td>-0.15</td>\n",
       "      <td>793.0</td>\n",
       "      <td>NaN</td>\n",
       "      <td>NaN</td>\n",
       "      <td>93.59</td>\n",
       "      <td>29.45</td>\n",
       "      <td>-16.65</td>\n",
       "      <td>35.8</td>\n",
       "      <td>1.0</td>\n",
       "      <td>q1_q17_dr25_tce</td>\n",
       "      <td>5455.0</td>\n",
       "      <td>81.0</td>\n",
       "      <td>-81.0</td>\n",
       "      <td>4.467</td>\n",
       "      <td>0.064</td>\n",
       "      <td>-0.096</td>\n",
       "      <td>0.927</td>\n",
       "      <td>0.105</td>\n",
       "      <td>-0.061</td>\n",
       "      <td>291.93423</td>\n",
       "      <td>48.141651</td>\n",
       "      <td>15.347</td>\n",
       "    </tr>\n",
       "    <tr>\n",
       "      <th>1</th>\n",
       "      <td>2</td>\n",
       "      <td>10797460</td>\n",
       "      <td>K00752.02</td>\n",
       "      <td>Kepler-227 c</td>\n",
       "      <td>CONFIRMED</td>\n",
       "      <td>CANDIDATE</td>\n",
       "      <td>0.969</td>\n",
       "      <td>0</td>\n",
       "      <td>0</td>\n",
       "      <td>0</td>\n",
       "      <td>0</td>\n",
       "      <td>54.418383</td>\n",
       "      <td>2.479000e-04</td>\n",
       "      <td>-2.479000e-04</td>\n",
       "      <td>162.513840</td>\n",
       "      <td>0.003520</td>\n",
       "      <td>-0.003520</td>\n",
       "      <td>0.586</td>\n",
       "      <td>0.059</td>\n",
       "      <td>-0.443</td>\n",
       "      <td>4.50700</td>\n",
       "      <td>0.11600</td>\n",
       "      <td>-0.11600</td>\n",
       "      <td>874.8</td>\n",
       "      <td>35.5</td>\n",
       "      <td>-35.5</td>\n",
       "      <td>2.83</td>\n",
       "      <td>0.32</td>\n",
       "      <td>-0.19</td>\n",
       "      <td>443.0</td>\n",
       "      <td>NaN</td>\n",
       "      <td>NaN</td>\n",
       "      <td>9.11</td>\n",
       "      <td>2.87</td>\n",
       "      <td>-1.62</td>\n",
       "      <td>25.8</td>\n",
       "      <td>2.0</td>\n",
       "      <td>q1_q17_dr25_tce</td>\n",
       "      <td>5455.0</td>\n",
       "      <td>81.0</td>\n",
       "      <td>-81.0</td>\n",
       "      <td>4.467</td>\n",
       "      <td>0.064</td>\n",
       "      <td>-0.096</td>\n",
       "      <td>0.927</td>\n",
       "      <td>0.105</td>\n",
       "      <td>-0.061</td>\n",
       "      <td>291.93423</td>\n",
       "      <td>48.141651</td>\n",
       "      <td>15.347</td>\n",
       "    </tr>\n",
       "    <tr>\n",
       "      <th>2</th>\n",
       "      <td>3</td>\n",
       "      <td>10811496</td>\n",
       "      <td>K00753.01</td>\n",
       "      <td>NaN</td>\n",
       "      <td>FALSE POSITIVE</td>\n",
       "      <td>FALSE POSITIVE</td>\n",
       "      <td>0.000</td>\n",
       "      <td>0</td>\n",
       "      <td>1</td>\n",
       "      <td>0</td>\n",
       "      <td>0</td>\n",
       "      <td>19.899140</td>\n",
       "      <td>1.494000e-05</td>\n",
       "      <td>-1.494000e-05</td>\n",
       "      <td>175.850252</td>\n",
       "      <td>0.000581</td>\n",
       "      <td>-0.000581</td>\n",
       "      <td>0.969</td>\n",
       "      <td>5.126</td>\n",
       "      <td>-0.077</td>\n",
       "      <td>1.78220</td>\n",
       "      <td>0.03410</td>\n",
       "      <td>-0.03410</td>\n",
       "      <td>10829.0</td>\n",
       "      <td>171.0</td>\n",
       "      <td>-171.0</td>\n",
       "      <td>14.60</td>\n",
       "      <td>3.92</td>\n",
       "      <td>-1.31</td>\n",
       "      <td>638.0</td>\n",
       "      <td>NaN</td>\n",
       "      <td>NaN</td>\n",
       "      <td>39.30</td>\n",
       "      <td>31.04</td>\n",
       "      <td>-10.49</td>\n",
       "      <td>76.3</td>\n",
       "      <td>1.0</td>\n",
       "      <td>q1_q17_dr25_tce</td>\n",
       "      <td>5853.0</td>\n",
       "      <td>158.0</td>\n",
       "      <td>-176.0</td>\n",
       "      <td>4.544</td>\n",
       "      <td>0.044</td>\n",
       "      <td>-0.176</td>\n",
       "      <td>0.868</td>\n",
       "      <td>0.233</td>\n",
       "      <td>-0.078</td>\n",
       "      <td>297.00482</td>\n",
       "      <td>48.134129</td>\n",
       "      <td>15.436</td>\n",
       "    </tr>\n",
       "    <tr>\n",
       "      <th>3</th>\n",
       "      <td>4</td>\n",
       "      <td>10848459</td>\n",
       "      <td>K00754.01</td>\n",
       "      <td>NaN</td>\n",
       "      <td>FALSE POSITIVE</td>\n",
       "      <td>FALSE POSITIVE</td>\n",
       "      <td>0.000</td>\n",
       "      <td>0</td>\n",
       "      <td>1</td>\n",
       "      <td>0</td>\n",
       "      <td>0</td>\n",
       "      <td>1.736952</td>\n",
       "      <td>2.630000e-07</td>\n",
       "      <td>-2.630000e-07</td>\n",
       "      <td>170.307565</td>\n",
       "      <td>0.000115</td>\n",
       "      <td>-0.000115</td>\n",
       "      <td>1.276</td>\n",
       "      <td>0.115</td>\n",
       "      <td>-0.092</td>\n",
       "      <td>2.40641</td>\n",
       "      <td>0.00537</td>\n",
       "      <td>-0.00537</td>\n",
       "      <td>8079.2</td>\n",
       "      <td>12.8</td>\n",
       "      <td>-12.8</td>\n",
       "      <td>33.46</td>\n",
       "      <td>8.50</td>\n",
       "      <td>-2.83</td>\n",
       "      <td>1395.0</td>\n",
       "      <td>NaN</td>\n",
       "      <td>NaN</td>\n",
       "      <td>891.96</td>\n",
       "      <td>668.95</td>\n",
       "      <td>-230.35</td>\n",
       "      <td>505.6</td>\n",
       "      <td>1.0</td>\n",
       "      <td>q1_q17_dr25_tce</td>\n",
       "      <td>5805.0</td>\n",
       "      <td>157.0</td>\n",
       "      <td>-174.0</td>\n",
       "      <td>4.564</td>\n",
       "      <td>0.053</td>\n",
       "      <td>-0.168</td>\n",
       "      <td>0.791</td>\n",
       "      <td>0.201</td>\n",
       "      <td>-0.067</td>\n",
       "      <td>285.53461</td>\n",
       "      <td>48.285210</td>\n",
       "      <td>15.597</td>\n",
       "    </tr>\n",
       "    <tr>\n",
       "      <th>4</th>\n",
       "      <td>5</td>\n",
       "      <td>10854555</td>\n",
       "      <td>K00755.01</td>\n",
       "      <td>Kepler-664 b</td>\n",
       "      <td>CONFIRMED</td>\n",
       "      <td>CANDIDATE</td>\n",
       "      <td>1.000</td>\n",
       "      <td>0</td>\n",
       "      <td>0</td>\n",
       "      <td>0</td>\n",
       "      <td>0</td>\n",
       "      <td>2.525592</td>\n",
       "      <td>3.761000e-06</td>\n",
       "      <td>-3.761000e-06</td>\n",
       "      <td>171.595550</td>\n",
       "      <td>0.001130</td>\n",
       "      <td>-0.001130</td>\n",
       "      <td>0.701</td>\n",
       "      <td>0.235</td>\n",
       "      <td>-0.478</td>\n",
       "      <td>1.65450</td>\n",
       "      <td>0.04200</td>\n",
       "      <td>-0.04200</td>\n",
       "      <td>603.3</td>\n",
       "      <td>16.9</td>\n",
       "      <td>-16.9</td>\n",
       "      <td>2.75</td>\n",
       "      <td>0.88</td>\n",
       "      <td>-0.35</td>\n",
       "      <td>1406.0</td>\n",
       "      <td>NaN</td>\n",
       "      <td>NaN</td>\n",
       "      <td>926.16</td>\n",
       "      <td>874.33</td>\n",
       "      <td>-314.24</td>\n",
       "      <td>40.9</td>\n",
       "      <td>1.0</td>\n",
       "      <td>q1_q17_dr25_tce</td>\n",
       "      <td>6031.0</td>\n",
       "      <td>169.0</td>\n",
       "      <td>-211.0</td>\n",
       "      <td>4.438</td>\n",
       "      <td>0.070</td>\n",
       "      <td>-0.210</td>\n",
       "      <td>1.046</td>\n",
       "      <td>0.334</td>\n",
       "      <td>-0.133</td>\n",
       "      <td>288.75488</td>\n",
       "      <td>48.226200</td>\n",
       "      <td>15.509</td>\n",
       "    </tr>\n",
       "    <tr>\n",
       "      <th>5</th>\n",
       "      <td>6</td>\n",
       "      <td>10872983</td>\n",
       "      <td>K00756.01</td>\n",
       "      <td>Kepler-228 d</td>\n",
       "      <td>CONFIRMED</td>\n",
       "      <td>CANDIDATE</td>\n",
       "      <td>1.000</td>\n",
       "      <td>0</td>\n",
       "      <td>0</td>\n",
       "      <td>0</td>\n",
       "      <td>0</td>\n",
       "      <td>11.094321</td>\n",
       "      <td>2.036000e-05</td>\n",
       "      <td>-2.036000e-05</td>\n",
       "      <td>171.201160</td>\n",
       "      <td>0.001410</td>\n",
       "      <td>-0.001410</td>\n",
       "      <td>0.538</td>\n",
       "      <td>0.030</td>\n",
       "      <td>-0.428</td>\n",
       "      <td>4.59450</td>\n",
       "      <td>0.06100</td>\n",
       "      <td>-0.06100</td>\n",
       "      <td>1517.5</td>\n",
       "      <td>24.2</td>\n",
       "      <td>-24.2</td>\n",
       "      <td>3.90</td>\n",
       "      <td>1.27</td>\n",
       "      <td>-0.42</td>\n",
       "      <td>835.0</td>\n",
       "      <td>NaN</td>\n",
       "      <td>NaN</td>\n",
       "      <td>114.81</td>\n",
       "      <td>112.85</td>\n",
       "      <td>-36.70</td>\n",
       "      <td>66.5</td>\n",
       "      <td>1.0</td>\n",
       "      <td>q1_q17_dr25_tce</td>\n",
       "      <td>6046.0</td>\n",
       "      <td>189.0</td>\n",
       "      <td>-232.0</td>\n",
       "      <td>4.486</td>\n",
       "      <td>0.054</td>\n",
       "      <td>-0.229</td>\n",
       "      <td>0.972</td>\n",
       "      <td>0.315</td>\n",
       "      <td>-0.105</td>\n",
       "      <td>296.28613</td>\n",
       "      <td>48.224670</td>\n",
       "      <td>15.714</td>\n",
       "    </tr>\n",
       "    <tr>\n",
       "      <th>6</th>\n",
       "      <td>7</td>\n",
       "      <td>10872983</td>\n",
       "      <td>K00756.02</td>\n",
       "      <td>Kepler-228 c</td>\n",
       "      <td>CONFIRMED</td>\n",
       "      <td>CANDIDATE</td>\n",
       "      <td>1.000</td>\n",
       "      <td>0</td>\n",
       "      <td>0</td>\n",
       "      <td>0</td>\n",
       "      <td>0</td>\n",
       "      <td>4.134435</td>\n",
       "      <td>1.046000e-05</td>\n",
       "      <td>-1.046000e-05</td>\n",
       "      <td>172.979370</td>\n",
       "      <td>0.001900</td>\n",
       "      <td>-0.001900</td>\n",
       "      <td>0.762</td>\n",
       "      <td>0.139</td>\n",
       "      <td>-0.532</td>\n",
       "      <td>3.14020</td>\n",
       "      <td>0.06730</td>\n",
       "      <td>-0.06730</td>\n",
       "      <td>686.0</td>\n",
       "      <td>18.7</td>\n",
       "      <td>-18.7</td>\n",
       "      <td>2.77</td>\n",
       "      <td>0.90</td>\n",
       "      <td>-0.30</td>\n",
       "      <td>1160.0</td>\n",
       "      <td>NaN</td>\n",
       "      <td>NaN</td>\n",
       "      <td>427.65</td>\n",
       "      <td>420.33</td>\n",
       "      <td>-136.70</td>\n",
       "      <td>40.2</td>\n",
       "      <td>2.0</td>\n",
       "      <td>q1_q17_dr25_tce</td>\n",
       "      <td>6046.0</td>\n",
       "      <td>189.0</td>\n",
       "      <td>-232.0</td>\n",
       "      <td>4.486</td>\n",
       "      <td>0.054</td>\n",
       "      <td>-0.229</td>\n",
       "      <td>0.972</td>\n",
       "      <td>0.315</td>\n",
       "      <td>-0.105</td>\n",
       "      <td>296.28613</td>\n",
       "      <td>48.224670</td>\n",
       "      <td>15.714</td>\n",
       "    </tr>\n",
       "    <tr>\n",
       "      <th>7</th>\n",
       "      <td>8</td>\n",
       "      <td>10872983</td>\n",
       "      <td>K00756.03</td>\n",
       "      <td>Kepler-228 b</td>\n",
       "      <td>CONFIRMED</td>\n",
       "      <td>CANDIDATE</td>\n",
       "      <td>0.992</td>\n",
       "      <td>0</td>\n",
       "      <td>0</td>\n",
       "      <td>0</td>\n",
       "      <td>0</td>\n",
       "      <td>2.566589</td>\n",
       "      <td>1.781000e-05</td>\n",
       "      <td>-1.781000e-05</td>\n",
       "      <td>179.554370</td>\n",
       "      <td>0.004610</td>\n",
       "      <td>-0.004610</td>\n",
       "      <td>0.755</td>\n",
       "      <td>0.212</td>\n",
       "      <td>-0.523</td>\n",
       "      <td>2.42900</td>\n",
       "      <td>0.16500</td>\n",
       "      <td>-0.16500</td>\n",
       "      <td>226.5</td>\n",
       "      <td>16.8</td>\n",
       "      <td>-16.8</td>\n",
       "      <td>1.59</td>\n",
       "      <td>0.52</td>\n",
       "      <td>-0.17</td>\n",
       "      <td>1360.0</td>\n",
       "      <td>NaN</td>\n",
       "      <td>NaN</td>\n",
       "      <td>807.74</td>\n",
       "      <td>793.91</td>\n",
       "      <td>-258.20</td>\n",
       "      <td>15.0</td>\n",
       "      <td>3.0</td>\n",
       "      <td>q1_q17_dr25_tce</td>\n",
       "      <td>6046.0</td>\n",
       "      <td>189.0</td>\n",
       "      <td>-232.0</td>\n",
       "      <td>4.486</td>\n",
       "      <td>0.054</td>\n",
       "      <td>-0.229</td>\n",
       "      <td>0.972</td>\n",
       "      <td>0.315</td>\n",
       "      <td>-0.105</td>\n",
       "      <td>296.28613</td>\n",
       "      <td>48.224670</td>\n",
       "      <td>15.714</td>\n",
       "    </tr>\n",
       "    <tr>\n",
       "      <th>8</th>\n",
       "      <td>9</td>\n",
       "      <td>6721123</td>\n",
       "      <td>K00114.01</td>\n",
       "      <td>NaN</td>\n",
       "      <td>FALSE POSITIVE</td>\n",
       "      <td>FALSE POSITIVE</td>\n",
       "      <td>0.000</td>\n",
       "      <td>0</td>\n",
       "      <td>1</td>\n",
       "      <td>1</td>\n",
       "      <td>0</td>\n",
       "      <td>7.361790</td>\n",
       "      <td>2.128000e-05</td>\n",
       "      <td>-2.128000e-05</td>\n",
       "      <td>132.250530</td>\n",
       "      <td>0.002530</td>\n",
       "      <td>-0.002530</td>\n",
       "      <td>1.169</td>\n",
       "      <td>7.133</td>\n",
       "      <td>-0.044</td>\n",
       "      <td>5.02200</td>\n",
       "      <td>0.13600</td>\n",
       "      <td>-0.13600</td>\n",
       "      <td>233.7</td>\n",
       "      <td>5.8</td>\n",
       "      <td>-5.8</td>\n",
       "      <td>39.21</td>\n",
       "      <td>6.45</td>\n",
       "      <td>-9.67</td>\n",
       "      <td>1342.0</td>\n",
       "      <td>NaN</td>\n",
       "      <td>NaN</td>\n",
       "      <td>767.22</td>\n",
       "      <td>349.28</td>\n",
       "      <td>-365.49</td>\n",
       "      <td>47.7</td>\n",
       "      <td>1.0</td>\n",
       "      <td>q1_q17_dr25_tce</td>\n",
       "      <td>6227.0</td>\n",
       "      <td>111.0</td>\n",
       "      <td>-124.0</td>\n",
       "      <td>3.986</td>\n",
       "      <td>0.182</td>\n",
       "      <td>-0.098</td>\n",
       "      <td>1.958</td>\n",
       "      <td>0.322</td>\n",
       "      <td>-0.483</td>\n",
       "      <td>298.86435</td>\n",
       "      <td>42.151569</td>\n",
       "      <td>12.660</td>\n",
       "    </tr>\n",
       "    <tr>\n",
       "      <th>9</th>\n",
       "      <td>10</td>\n",
       "      <td>10910878</td>\n",
       "      <td>K00757.01</td>\n",
       "      <td>Kepler-229 c</td>\n",
       "      <td>CONFIRMED</td>\n",
       "      <td>CANDIDATE</td>\n",
       "      <td>1.000</td>\n",
       "      <td>0</td>\n",
       "      <td>0</td>\n",
       "      <td>0</td>\n",
       "      <td>0</td>\n",
       "      <td>16.068647</td>\n",
       "      <td>1.088000e-05</td>\n",
       "      <td>-1.088000e-05</td>\n",
       "      <td>173.621937</td>\n",
       "      <td>0.000517</td>\n",
       "      <td>-0.000517</td>\n",
       "      <td>0.052</td>\n",
       "      <td>0.262</td>\n",
       "      <td>-0.052</td>\n",
       "      <td>3.53470</td>\n",
       "      <td>0.02410</td>\n",
       "      <td>-0.02410</td>\n",
       "      <td>4914.3</td>\n",
       "      <td>33.3</td>\n",
       "      <td>-33.3</td>\n",
       "      <td>5.76</td>\n",
       "      <td>0.22</td>\n",
       "      <td>-0.49</td>\n",
       "      <td>600.0</td>\n",
       "      <td>NaN</td>\n",
       "      <td>NaN</td>\n",
       "      <td>30.75</td>\n",
       "      <td>4.46</td>\n",
       "      <td>-6.66</td>\n",
       "      <td>161.9</td>\n",
       "      <td>1.0</td>\n",
       "      <td>q1_q17_dr25_tce</td>\n",
       "      <td>5031.0</td>\n",
       "      <td>75.0</td>\n",
       "      <td>-83.0</td>\n",
       "      <td>4.485</td>\n",
       "      <td>0.083</td>\n",
       "      <td>-0.028</td>\n",
       "      <td>0.848</td>\n",
       "      <td>0.033</td>\n",
       "      <td>-0.072</td>\n",
       "      <td>286.99948</td>\n",
       "      <td>48.375790</td>\n",
       "      <td>15.841</td>\n",
       "    </tr>\n",
       "  </tbody>\n",
       "</table>\n",
       "</div>"
      ],
      "text/plain": [
       "   rowid     kepid kepoi_name   kepler_name koi_disposition koi_pdisposition  \\\n",
       "0      1  10797460  K00752.01  Kepler-227 b       CONFIRMED        CANDIDATE   \n",
       "1      2  10797460  K00752.02  Kepler-227 c       CONFIRMED        CANDIDATE   \n",
       "2      3  10811496  K00753.01           NaN  FALSE POSITIVE   FALSE POSITIVE   \n",
       "3      4  10848459  K00754.01           NaN  FALSE POSITIVE   FALSE POSITIVE   \n",
       "4      5  10854555  K00755.01  Kepler-664 b       CONFIRMED        CANDIDATE   \n",
       "5      6  10872983  K00756.01  Kepler-228 d       CONFIRMED        CANDIDATE   \n",
       "6      7  10872983  K00756.02  Kepler-228 c       CONFIRMED        CANDIDATE   \n",
       "7      8  10872983  K00756.03  Kepler-228 b       CONFIRMED        CANDIDATE   \n",
       "8      9   6721123  K00114.01           NaN  FALSE POSITIVE   FALSE POSITIVE   \n",
       "9     10  10910878  K00757.01  Kepler-229 c       CONFIRMED        CANDIDATE   \n",
       "\n",
       "   koi_score  koi_fpflag_nt  koi_fpflag_ss  koi_fpflag_co  koi_fpflag_ec  \\\n",
       "0      1.000              0              0              0              0   \n",
       "1      0.969              0              0              0              0   \n",
       "2      0.000              0              1              0              0   \n",
       "3      0.000              0              1              0              0   \n",
       "4      1.000              0              0              0              0   \n",
       "5      1.000              0              0              0              0   \n",
       "6      1.000              0              0              0              0   \n",
       "7      0.992              0              0              0              0   \n",
       "8      0.000              0              1              1              0   \n",
       "9      1.000              0              0              0              0   \n",
       "\n",
       "   koi_period  koi_period_err1  koi_period_err2  koi_time0bk  \\\n",
       "0    9.488036     2.775000e-05    -2.775000e-05   170.538750   \n",
       "1   54.418383     2.479000e-04    -2.479000e-04   162.513840   \n",
       "2   19.899140     1.494000e-05    -1.494000e-05   175.850252   \n",
       "3    1.736952     2.630000e-07    -2.630000e-07   170.307565   \n",
       "4    2.525592     3.761000e-06    -3.761000e-06   171.595550   \n",
       "5   11.094321     2.036000e-05    -2.036000e-05   171.201160   \n",
       "6    4.134435     1.046000e-05    -1.046000e-05   172.979370   \n",
       "7    2.566589     1.781000e-05    -1.781000e-05   179.554370   \n",
       "8    7.361790     2.128000e-05    -2.128000e-05   132.250530   \n",
       "9   16.068647     1.088000e-05    -1.088000e-05   173.621937   \n",
       "\n",
       "   koi_time0bk_err1  koi_time0bk_err2  koi_impact  koi_impact_err1  \\\n",
       "0          0.002160         -0.002160       0.146            0.318   \n",
       "1          0.003520         -0.003520       0.586            0.059   \n",
       "2          0.000581         -0.000581       0.969            5.126   \n",
       "3          0.000115         -0.000115       1.276            0.115   \n",
       "4          0.001130         -0.001130       0.701            0.235   \n",
       "5          0.001410         -0.001410       0.538            0.030   \n",
       "6          0.001900         -0.001900       0.762            0.139   \n",
       "7          0.004610         -0.004610       0.755            0.212   \n",
       "8          0.002530         -0.002530       1.169            7.133   \n",
       "9          0.000517         -0.000517       0.052            0.262   \n",
       "\n",
       "   koi_impact_err2  koi_duration  koi_duration_err1  koi_duration_err2  \\\n",
       "0           -0.146       2.95750            0.08190           -0.08190   \n",
       "1           -0.443       4.50700            0.11600           -0.11600   \n",
       "2           -0.077       1.78220            0.03410           -0.03410   \n",
       "3           -0.092       2.40641            0.00537           -0.00537   \n",
       "4           -0.478       1.65450            0.04200           -0.04200   \n",
       "5           -0.428       4.59450            0.06100           -0.06100   \n",
       "6           -0.532       3.14020            0.06730           -0.06730   \n",
       "7           -0.523       2.42900            0.16500           -0.16500   \n",
       "8           -0.044       5.02200            0.13600           -0.13600   \n",
       "9           -0.052       3.53470            0.02410           -0.02410   \n",
       "\n",
       "   koi_depth  koi_depth_err1  koi_depth_err2  koi_prad  koi_prad_err1  \\\n",
       "0      615.8            19.5           -19.5      2.26           0.26   \n",
       "1      874.8            35.5           -35.5      2.83           0.32   \n",
       "2    10829.0           171.0          -171.0     14.60           3.92   \n",
       "3     8079.2            12.8           -12.8     33.46           8.50   \n",
       "4      603.3            16.9           -16.9      2.75           0.88   \n",
       "5     1517.5            24.2           -24.2      3.90           1.27   \n",
       "6      686.0            18.7           -18.7      2.77           0.90   \n",
       "7      226.5            16.8           -16.8      1.59           0.52   \n",
       "8      233.7             5.8            -5.8     39.21           6.45   \n",
       "9     4914.3            33.3           -33.3      5.76           0.22   \n",
       "\n",
       "   koi_prad_err2  koi_teq  koi_teq_err1  koi_teq_err2  koi_insol  \\\n",
       "0          -0.15    793.0           NaN           NaN      93.59   \n",
       "1          -0.19    443.0           NaN           NaN       9.11   \n",
       "2          -1.31    638.0           NaN           NaN      39.30   \n",
       "3          -2.83   1395.0           NaN           NaN     891.96   \n",
       "4          -0.35   1406.0           NaN           NaN     926.16   \n",
       "5          -0.42    835.0           NaN           NaN     114.81   \n",
       "6          -0.30   1160.0           NaN           NaN     427.65   \n",
       "7          -0.17   1360.0           NaN           NaN     807.74   \n",
       "8          -9.67   1342.0           NaN           NaN     767.22   \n",
       "9          -0.49    600.0           NaN           NaN      30.75   \n",
       "\n",
       "   koi_insol_err1  koi_insol_err2  koi_model_snr  koi_tce_plnt_num  \\\n",
       "0           29.45          -16.65           35.8               1.0   \n",
       "1            2.87           -1.62           25.8               2.0   \n",
       "2           31.04          -10.49           76.3               1.0   \n",
       "3          668.95         -230.35          505.6               1.0   \n",
       "4          874.33         -314.24           40.9               1.0   \n",
       "5          112.85          -36.70           66.5               1.0   \n",
       "6          420.33         -136.70           40.2               2.0   \n",
       "7          793.91         -258.20           15.0               3.0   \n",
       "8          349.28         -365.49           47.7               1.0   \n",
       "9            4.46           -6.66          161.9               1.0   \n",
       "\n",
       "  koi_tce_delivname  koi_steff  koi_steff_err1  koi_steff_err2  koi_slogg  \\\n",
       "0   q1_q17_dr25_tce     5455.0            81.0           -81.0      4.467   \n",
       "1   q1_q17_dr25_tce     5455.0            81.0           -81.0      4.467   \n",
       "2   q1_q17_dr25_tce     5853.0           158.0          -176.0      4.544   \n",
       "3   q1_q17_dr25_tce     5805.0           157.0          -174.0      4.564   \n",
       "4   q1_q17_dr25_tce     6031.0           169.0          -211.0      4.438   \n",
       "5   q1_q17_dr25_tce     6046.0           189.0          -232.0      4.486   \n",
       "6   q1_q17_dr25_tce     6046.0           189.0          -232.0      4.486   \n",
       "7   q1_q17_dr25_tce     6046.0           189.0          -232.0      4.486   \n",
       "8   q1_q17_dr25_tce     6227.0           111.0          -124.0      3.986   \n",
       "9   q1_q17_dr25_tce     5031.0            75.0           -83.0      4.485   \n",
       "\n",
       "   koi_slogg_err1  koi_slogg_err2  koi_srad  koi_srad_err1  koi_srad_err2  \\\n",
       "0           0.064          -0.096     0.927          0.105         -0.061   \n",
       "1           0.064          -0.096     0.927          0.105         -0.061   \n",
       "2           0.044          -0.176     0.868          0.233         -0.078   \n",
       "3           0.053          -0.168     0.791          0.201         -0.067   \n",
       "4           0.070          -0.210     1.046          0.334         -0.133   \n",
       "5           0.054          -0.229     0.972          0.315         -0.105   \n",
       "6           0.054          -0.229     0.972          0.315         -0.105   \n",
       "7           0.054          -0.229     0.972          0.315         -0.105   \n",
       "8           0.182          -0.098     1.958          0.322         -0.483   \n",
       "9           0.083          -0.028     0.848          0.033         -0.072   \n",
       "\n",
       "          ra        dec  koi_kepmag  \n",
       "0  291.93423  48.141651      15.347  \n",
       "1  291.93423  48.141651      15.347  \n",
       "2  297.00482  48.134129      15.436  \n",
       "3  285.53461  48.285210      15.597  \n",
       "4  288.75488  48.226200      15.509  \n",
       "5  296.28613  48.224670      15.714  \n",
       "6  296.28613  48.224670      15.714  \n",
       "7  296.28613  48.224670      15.714  \n",
       "8  298.86435  42.151569      12.660  \n",
       "9  286.99948  48.375790      15.841  "
      ]
     },
     "execution_count": 3,
     "metadata": {},
     "output_type": "execute_result"
    }
   ],
   "source": [
    "# Step 1: Read the dataset\n",
    "pd.set_option('display.max_columns', 50)\n",
    "df_original = pd.read_csv('cumulative.csv')\n",
    "df_original.head(10)"
   ]
  },
  {
   "cell_type": "code",
   "execution_count": 4,
   "metadata": {},
   "outputs": [
    {
     "name": "stdout",
     "output_type": "stream",
     "text": [
      "<class 'pandas.core.frame.DataFrame'>\n",
      "RangeIndex: 9564 entries, 0 to 9563\n",
      "Data columns (total 50 columns):\n",
      " #   Column             Non-Null Count  Dtype  \n",
      "---  ------             --------------  -----  \n",
      " 0   rowid              9564 non-null   int64  \n",
      " 1   kepid              9564 non-null   int64  \n",
      " 2   kepoi_name         9564 non-null   object \n",
      " 3   kepler_name        2294 non-null   object \n",
      " 4   koi_disposition    9564 non-null   object \n",
      " 5   koi_pdisposition   9564 non-null   object \n",
      " 6   koi_score          8054 non-null   float64\n",
      " 7   koi_fpflag_nt      9564 non-null   int64  \n",
      " 8   koi_fpflag_ss      9564 non-null   int64  \n",
      " 9   koi_fpflag_co      9564 non-null   int64  \n",
      " 10  koi_fpflag_ec      9564 non-null   int64  \n",
      " 11  koi_period         9564 non-null   float64\n",
      " 12  koi_period_err1    9110 non-null   float64\n",
      " 13  koi_period_err2    9110 non-null   float64\n",
      " 14  koi_time0bk        9564 non-null   float64\n",
      " 15  koi_time0bk_err1   9110 non-null   float64\n",
      " 16  koi_time0bk_err2   9110 non-null   float64\n",
      " 17  koi_impact         9201 non-null   float64\n",
      " 18  koi_impact_err1    9110 non-null   float64\n",
      " 19  koi_impact_err2    9110 non-null   float64\n",
      " 20  koi_duration       9564 non-null   float64\n",
      " 21  koi_duration_err1  9110 non-null   float64\n",
      " 22  koi_duration_err2  9110 non-null   float64\n",
      " 23  koi_depth          9201 non-null   float64\n",
      " 24  koi_depth_err1     9110 non-null   float64\n",
      " 25  koi_depth_err2     9110 non-null   float64\n",
      " 26  koi_prad           9201 non-null   float64\n",
      " 27  koi_prad_err1      9201 non-null   float64\n",
      " 28  koi_prad_err2      9201 non-null   float64\n",
      " 29  koi_teq            9201 non-null   float64\n",
      " 30  koi_teq_err1       0 non-null      float64\n",
      " 31  koi_teq_err2       0 non-null      float64\n",
      " 32  koi_insol          9243 non-null   float64\n",
      " 33  koi_insol_err1     9243 non-null   float64\n",
      " 34  koi_insol_err2     9243 non-null   float64\n",
      " 35  koi_model_snr      9201 non-null   float64\n",
      " 36  koi_tce_plnt_num   9218 non-null   float64\n",
      " 37  koi_tce_delivname  9218 non-null   object \n",
      " 38  koi_steff          9201 non-null   float64\n",
      " 39  koi_steff_err1     9096 non-null   float64\n",
      " 40  koi_steff_err2     9081 non-null   float64\n",
      " 41  koi_slogg          9201 non-null   float64\n",
      " 42  koi_slogg_err1     9096 non-null   float64\n",
      " 43  koi_slogg_err2     9096 non-null   float64\n",
      " 44  koi_srad           9201 non-null   float64\n",
      " 45  koi_srad_err1      9096 non-null   float64\n",
      " 46  koi_srad_err2      9096 non-null   float64\n",
      " 47  ra                 9564 non-null   float64\n",
      " 48  dec                9564 non-null   float64\n",
      " 49  koi_kepmag         9563 non-null   float64\n",
      "dtypes: float64(39), int64(6), object(5)\n",
      "memory usage: 3.6+ MB\n"
     ]
    }
   ],
   "source": [
    "# Step 2: Check dataset general information\n",
    "df_original.info()"
   ]
  },
  {
   "cell_type": "markdown",
   "metadata": {},
   "source": [
    "## **4.2. Unnecessary Columns Removal**"
   ]
  },
  {
   "cell_type": "markdown",
   "metadata": {},
   "source": [
    "Understanding the nature or metadata of the dataset can be done by exploring the following link:\n",
    "\n",
    "https://exoplanetarchive.ipac.caltech.edu/docs/API_kepcandidate_columns.html\n",
    "\n",
    "Based on the information from the NASA Exoplanet Archive, we conclude that the columns 'kepid', 'rowid', 'kepoi_name', 'kepler_name', 'koi_pdisposition', 'koi_score', 'koi_teq_err1', and 'koi_teq_err2' are unnecessary for our analysis. For example, the 'kepid' column serves only as a target identification number and does not provide meaningful information for the machine learning model. Additionally, the columns 'koi_teq_err1' and 'koi_teq_err2' contain no values in any rows, making them irrelevant for further processing.\n",
    "\n",
    "Therefore, these series need to be removed."
   ]
  },
  {
   "cell_type": "code",
   "execution_count": 5,
   "metadata": {},
   "outputs": [
    {
     "name": "stdout",
     "output_type": "stream",
     "text": [
      "<class 'pandas.core.frame.DataFrame'>\n",
      "RangeIndex: 9564 entries, 0 to 9563\n",
      "Data columns (total 42 columns):\n",
      " #   Column             Non-Null Count  Dtype  \n",
      "---  ------             --------------  -----  \n",
      " 0   koi_disposition    9564 non-null   object \n",
      " 1   koi_fpflag_nt      9564 non-null   int64  \n",
      " 2   koi_fpflag_ss      9564 non-null   int64  \n",
      " 3   koi_fpflag_co      9564 non-null   int64  \n",
      " 4   koi_fpflag_ec      9564 non-null   int64  \n",
      " 5   koi_period         9564 non-null   float64\n",
      " 6   koi_period_err1    9110 non-null   float64\n",
      " 7   koi_period_err2    9110 non-null   float64\n",
      " 8   koi_time0bk        9564 non-null   float64\n",
      " 9   koi_time0bk_err1   9110 non-null   float64\n",
      " 10  koi_time0bk_err2   9110 non-null   float64\n",
      " 11  koi_impact         9201 non-null   float64\n",
      " 12  koi_impact_err1    9110 non-null   float64\n",
      " 13  koi_impact_err2    9110 non-null   float64\n",
      " 14  koi_duration       9564 non-null   float64\n",
      " 15  koi_duration_err1  9110 non-null   float64\n",
      " 16  koi_duration_err2  9110 non-null   float64\n",
      " 17  koi_depth          9201 non-null   float64\n",
      " 18  koi_depth_err1     9110 non-null   float64\n",
      " 19  koi_depth_err2     9110 non-null   float64\n",
      " 20  koi_prad           9201 non-null   float64\n",
      " 21  koi_prad_err1      9201 non-null   float64\n",
      " 22  koi_prad_err2      9201 non-null   float64\n",
      " 23  koi_teq            9201 non-null   float64\n",
      " 24  koi_insol          9243 non-null   float64\n",
      " 25  koi_insol_err1     9243 non-null   float64\n",
      " 26  koi_insol_err2     9243 non-null   float64\n",
      " 27  koi_model_snr      9201 non-null   float64\n",
      " 28  koi_tce_plnt_num   9218 non-null   float64\n",
      " 29  koi_tce_delivname  9218 non-null   object \n",
      " 30  koi_steff          9201 non-null   float64\n",
      " 31  koi_steff_err1     9096 non-null   float64\n",
      " 32  koi_steff_err2     9081 non-null   float64\n",
      " 33  koi_slogg          9201 non-null   float64\n",
      " 34  koi_slogg_err1     9096 non-null   float64\n",
      " 35  koi_slogg_err2     9096 non-null   float64\n",
      " 36  koi_srad           9201 non-null   float64\n",
      " 37  koi_srad_err1      9096 non-null   float64\n",
      " 38  koi_srad_err2      9096 non-null   float64\n",
      " 39  ra                 9564 non-null   float64\n",
      " 40  dec                9564 non-null   float64\n",
      " 41  koi_kepmag         9563 non-null   float64\n",
      "dtypes: float64(36), int64(4), object(2)\n",
      "memory usage: 3.1+ MB\n"
     ]
    }
   ],
   "source": [
    "# Step 1: Drop unuseful columns\n",
    "df_original = df_original.drop(['kepid', 'rowid', 'kepoi_name', 'kepler_name', 'koi_pdisposition', 'koi_score', 'koi_teq_err1', 'koi_teq_err2'], axis = 1)\n",
    "df_original.info()"
   ]
  },
  {
   "cell_type": "markdown",
   "metadata": {},
   "source": [
    "# **Chapter 5: Exploratory Data Analysis**"
   ]
  },
  {
   "cell_type": "markdown",
   "metadata": {},
   "source": [
    "To get insights into the characteristics and trends of our dataset, we will perform statistical analysis, create visualizations, and generally explore the data . However, before plotting, we will make a copy of our DataFrame specifically for EDA and Feature Engineering. This step is crucial to avoid data leakage."
   ]
  },
  {
   "cell_type": "code",
   "execution_count": 6,
   "metadata": {},
   "outputs": [],
   "source": [
    "# Step 1: Create a copy of our dataframe\n",
    "df = df_original.copy()"
   ]
  },
  {
   "cell_type": "markdown",
   "metadata": {},
   "source": [
    "## **5.1. Distribution of KOI Dispositions**"
   ]
  },
  {
   "cell_type": "markdown",
   "metadata": {},
   "source": [
    "A confirmed exoplanet is a celestial body that has been verified as a planet through multiple independent methods or observations. Meanwhile, a candidate exoplanet simply means that the exoplanet that shows characteristics consistent with being a planet but has not yet been fully verified. \n",
    "\n",
    "Kepler also sometimes identify a celestial object to be exoplanets incorrectly. This is called False Positive.\n",
    "\n",
    "This section will answer how many, in percentage, confirmed and candidate exoplanets were found by Kepler space tellescope."
   ]
  },
  {
   "cell_type": "code",
   "execution_count": 7,
   "metadata": {},
   "outputs": [
    {
     "data": {
      "image/png": "[encoded data removed]",
      "text/plain": [
       "<Figure size 800x800 with 1 Axes>"
      ]
     },
     "metadata": {},
     "output_type": "display_data"
    }
   ],
   "source": [
    "# Step 1: Create a figure and axis for the plot with figure size of 8x8 inches\n",
    "fig,ax1 = plt.subplots(figsize=(8,8))\n",
    "\n",
    "# Step 2: Plot a pie chart of the 'X' column's value counts\n",
    "# 'autopct' displays percentages with only one decimal places\n",
    "# 'ax=ax1' means that the plot will be drawn on the created axis\n",
    "df['koi_disposition'].value_counts().plot(kind='pie',\n",
    "                                                     autopct='%.1f%%',\n",
    "                                                     ax=ax1,\n",
    "                                                     colors=['#9191E9', '#C2AFF0', '#686868', '#457EAC'],\n",
    "                                                     title=\"Percentage of Confirmed vs Candidate Exoplanet\")\n",
    "\n",
    "# Step 3: Show the plot\n",
    "plt.show()"
   ]
  },
  {
   "cell_type": "markdown",
   "metadata": {},
   "source": [
    "**Insight:**\n",
    "\n",
    "As presented above, half of KOIs are determined to be False Positive, or what detected as exoplanet but after further analysis id not factually correct. 52,5% of KOIs are confirmed to incorrectly classified, while 24,0% of KOIs are confirmed to be exoplanet. The remaining 23,5% of candidate exoplanets need to be examined and analyzed further to determine its disposition."
   ]
  },
  {
   "cell_type": "markdown",
   "metadata": {},
   "source": [
    "## **5.2. Exoplanets Size Distribution**"
   ]
  },
  {
   "cell_type": "markdown",
   "metadata": {},
   "source": [
    "The size of all confirmed exoplanets vary, to the ones that have similar radius to Earth or a huge exoplanet like that is of Jupiter. This section will try to answer the question: \"How many confirmed exoplanets are Earth-sized, super-Earths, mini-neptune, or gas giants?\""
   ]
  },
  {
   "cell_type": "code",
   "execution_count": 8,
   "metadata": {},
   "outputs": [
    {
     "name": "stdout",
     "output_type": "stream",
     "text": [
      "<class 'pandas.core.frame.DataFrame'>\n",
      "RangeIndex: 2293 entries, 0 to 2292\n",
      "Data columns (total 42 columns):\n",
      " #   Column             Non-Null Count  Dtype  \n",
      "---  ------             --------------  -----  \n",
      " 0   koi_disposition    2293 non-null   object \n",
      " 1   koi_fpflag_nt      2293 non-null   int64  \n",
      " 2   koi_fpflag_ss      2293 non-null   int64  \n",
      " 3   koi_fpflag_co      2293 non-null   int64  \n",
      " 4   koi_fpflag_ec      2293 non-null   int64  \n",
      " 5   koi_period         2293 non-null   float64\n",
      " 6   koi_period_err1    2292 non-null   float64\n",
      " 7   koi_period_err2    2292 non-null   float64\n",
      " 8   koi_time0bk        2293 non-null   float64\n",
      " 9   koi_time0bk_err1   2292 non-null   float64\n",
      " 10  koi_time0bk_err2   2292 non-null   float64\n",
      " 11  koi_impact         2292 non-null   float64\n",
      " 12  koi_impact_err1    2292 non-null   float64\n",
      " 13  koi_impact_err2    2292 non-null   float64\n",
      " 14  koi_duration       2293 non-null   float64\n",
      " 15  koi_duration_err1  2292 non-null   float64\n",
      " 16  koi_duration_err2  2292 non-null   float64\n",
      " 17  koi_depth          2292 non-null   float64\n",
      " 18  koi_depth_err1     2292 non-null   float64\n",
      " 19  koi_depth_err2     2292 non-null   float64\n",
      " 20  koi_prad           2292 non-null   float64\n",
      " 21  koi_prad_err1      2292 non-null   float64\n",
      " 22  koi_prad_err2      2292 non-null   float64\n",
      " 23  koi_teq            2292 non-null   float64\n",
      " 24  koi_insol          2292 non-null   float64\n",
      " 25  koi_insol_err1     2292 non-null   float64\n",
      " 26  koi_insol_err2     2292 non-null   float64\n",
      " 27  koi_model_snr      2292 non-null   float64\n",
      " 28  koi_tce_plnt_num   2285 non-null   float64\n",
      " 29  koi_tce_delivname  2285 non-null   object \n",
      " 30  koi_steff          2292 non-null   float64\n",
      " 31  koi_steff_err1     2292 non-null   float64\n",
      " 32  koi_steff_err2     2279 non-null   float64\n",
      " 33  koi_slogg          2292 non-null   float64\n",
      " 34  koi_slogg_err1     2292 non-null   float64\n",
      " 35  koi_slogg_err2     2292 non-null   float64\n",
      " 36  koi_srad           2292 non-null   float64\n",
      " 37  koi_srad_err1      2292 non-null   float64\n",
      " 38  koi_srad_err2      2292 non-null   float64\n",
      " 39  ra                 2293 non-null   float64\n",
      " 40  dec                2293 non-null   float64\n",
      " 41  koi_kepmag         2293 non-null   float64\n",
      "dtypes: float64(36), int64(4), object(2)\n",
      "memory usage: 752.5+ KB\n"
     ]
    }
   ],
   "source": [
    "# Step 1: Create a filter for Confirmed Exoplanets\n",
    "df_filtered = df[df['koi_disposition'] == 'CONFIRMED']\n",
    "\n",
    "# Step 2: Reset Index\n",
    "df_filtered.reset_index(drop=True, inplace=True)\n",
    "\n",
    "# Step 3: Retrieve information\n",
    "df_filtered.info()"
   ]
  },
  {
   "cell_type": "code",
   "execution_count": 9,
   "metadata": {},
   "outputs": [
    {
     "name": "stderr",
     "output_type": "stream",
     "text": [
      "C:\\Users\\T14\\AppData\\Local\\Temp\\ipykernel_20248\\222984276.py:14: SettingWithCopyWarning: \n",
      "A value is trying to be set on a copy of a slice from a DataFrame.\n",
      "Try using .loc[row_indexer,col_indexer] = value instead\n",
      "\n",
      "See the caveats in the documentation: https://pandas.pydata.org/pandas-docs/stable/user_guide/indexing.html#returning-a-view-versus-a-copy\n",
      "  df_filtered['planet_category'] = df_filtered['koi_prad'].apply(categorize_planet_radius)\n"
     ]
    }
   ],
   "source": [
    "# Step 4: Create function to categorize exoplanets\n",
    "def categorize_planet_radius(radius):\n",
    "    if 0.8 <= radius <= 1.25:\n",
    "        return 'Earth-sized'\n",
    "    elif 1.25 < radius <= 2.0:\n",
    "        return 'Super-Earth'\n",
    "    elif 2.0 < radius <= 4.0:\n",
    "        return 'Mini-Neptune'\n",
    "    elif radius > 4.0:\n",
    "        return 'Gas Giant'\n",
    "    else:\n",
    "        return 'Unknown'\n",
    "\n",
    "df_filtered['planet_category'] = df_filtered['koi_prad'].apply(categorize_planet_radius)"
   ]
  },
  {
   "cell_type": "code",
   "execution_count": 10,
   "metadata": {},
   "outputs": [
    {
     "data": {
      "image/png": "[encoded data removed]",
      "text/plain": [
       "<Figure size 800x800 with 1 Axes>"
      ]
     },
     "metadata": {},
     "output_type": "display_data"
    }
   ],
   "source": [
    "# Step 5: Create a figure and axis for the plot with figure size of 8x8 inches\n",
    "fig,ax1 = plt.subplots(figsize=(8,8))\n",
    "\n",
    "# Step 6: Plot a pie chart of the 'X' column's value counts\n",
    "# 'autopct' displays percentages with only one decimal places\n",
    "# 'ax=ax1' means that the plot will be drawn on the created axis\n",
    "df_filtered['planet_category'].value_counts().plot(kind='pie',\n",
    "                                                     autopct='%.1f%%',\n",
    "                                                     ax=ax1,\n",
    "                                                     colors=['#FC9601', '#842539', '#D14009', '#457EAC', '#FFE484'],\n",
    "                                                     title=\"Exoplanets Radius Category\")\n",
    "\n",
    "# Step 7: Show the plot\n",
    "plt.show()"
   ]
  },
  {
   "cell_type": "markdown",
   "metadata": {},
   "source": [
    "**Insight:**\n",
    "\n",
    "The majority of confirmed exoplanets (44,1%) found are Mini-Neptune. Mini-Neptunes are planets that are larger than Super-Earths but smaller than Neptune. These planets often have thick atmospheres, primarily composed of hydrogen and helium, and may have a rocky or icy core.\n",
    "\n",
    "The second majority of exoplanets (30,5%) are Super-Earth. They can have a similar composition (rocky or icy) to Earth, but with a larger mass and potentially a thicker atmosphere.\n",
    "\n",
    "The exoplanets found equal to the size of Earth is 11%. These exoplanets size may be a good indication that they have similar composition withat that of Earth."
   ]
  },
  {
   "cell_type": "markdown",
   "metadata": {},
   "source": [
    "## **5.4. Potential Habitable Exoplanets**"
   ]
  },
  {
   "cell_type": "markdown",
   "metadata": {},
   "source": [
    "The amount of energy from a star that reaches the surface of a planet or exoplanet (insolation flux) determines how habitable an exoplanet is. If the planet is close to its star, it will benefit from more energy but it will also has a hotter surface, making the planet may be too hot for life. However, if the planet is too far from its star, it will be too cold for form of life to exist."
   ]
  },
  {
   "cell_type": "markdown",
   "metadata": {},
   "source": [
    "This analysis answers how many planets fall within their star's habitable zone. The ideal measurement is equal to 1. Insolation Flux = 1 means that the planet is receiving the same amount of energy as Earth does from the Sun. This is often used as a baseline for Earth-like conditions, and it could indicate that the planet is in the habitable zone of its star, similar to Earth.\n",
    "\n",
    "It's important to note that this analysis uses simplified measure (koi_insol) to determine whether an exoplanet is habitable or not. To fully understand if an exoplanet is habitable or not, there are several factors need to be measured. However, this analysis could serve as a preliminary analysis or assumption."
   ]
  },
  {
   "cell_type": "code",
   "execution_count": 11,
   "metadata": {},
   "outputs": [
    {
     "name": "stderr",
     "output_type": "stream",
     "text": [
      "C:\\Users\\T14\\AppData\\Local\\Temp\\ipykernel_20248\\393635035.py:12: SettingWithCopyWarning: \n",
      "A value is trying to be set on a copy of a slice from a DataFrame.\n",
      "Try using .loc[row_indexer,col_indexer] = value instead\n",
      "\n",
      "See the caveats in the documentation: https://pandas.pydata.org/pandas-docs/stable/user_guide/indexing.html#returning-a-view-versus-a-copy\n",
      "  df_filtered['habitable_category'] = df_filtered['koi_insol'].apply(habitable_category)\n"
     ]
    }
   ],
   "source": [
    "# Step 1: Create a function to categorize insolation flux\n",
    "def habitable_category(insolation_flux):\n",
    "    if insolation_flux == 1:\n",
    "        return 'Potentially Habitable'\n",
    "    elif insolation_flux > 1:\n",
    "        return 'High Energy'\n",
    "    elif insolation_flux < 1:\n",
    "        return 'Low Energy'\n",
    "    else:\n",
    "        return 'Unknown'\n",
    "\n",
    "df_filtered['habitable_category'] = df_filtered['koi_insol'].apply(habitable_category)"
   ]
  },
  {
   "cell_type": "code",
   "execution_count": 12,
   "metadata": {},
   "outputs": [
    {
     "data": {
      "text/plain": [
       "habitable_category\n",
       "High Energy    2258\n",
       "Low Energy       34\n",
       "Unknown           1\n",
       "Name: count, dtype: int64"
      ]
     },
     "execution_count": 12,
     "metadata": {},
     "output_type": "execute_result"
    }
   ],
   "source": [
    "# Step 2: Create a variable for count of category\n",
    "count_category_influx = df_filtered['habitable_category'].value_counts()\n",
    "\n",
    "# Step 3: Call the variable\n",
    "count_category_influx"
   ]
  },
  {
   "cell_type": "code",
   "execution_count": 13,
   "metadata": {},
   "outputs": [
    {
     "data": {
      "text/plain": [
       "1"
      ]
     },
     "execution_count": 13,
     "metadata": {},
     "output_type": "execute_result"
    }
   ],
   "source": [
    "# Step 4: Find the Unknown cause\n",
    "df_filtered['koi_insol'].isna().sum()"
   ]
  },
  {
   "cell_type": "code",
   "execution_count": 14,
   "metadata": {},
   "outputs": [
    {
     "data": {
      "text/plain": [
       "<Axes: xlabel='habitable_category'>"
      ]
     },
     "execution_count": 14,
     "metadata": {},
     "output_type": "execute_result"
    },
    {
     "data": {
      "image/png": "[encoded data removed]",
      "text/plain": [
       "<Figure size 640x480 with 1 Axes>"
      ]
     },
     "metadata": {},
     "output_type": "display_data"
    }
   ],
   "source": [
    "# Step 5: Plot a bar chart to show the result\n",
    "count_category_influx.plot(kind='bar')"
   ]
  },
  {
   "cell_type": "markdown",
   "metadata": {},
   "source": [
    "**Insight:**\n",
    "\n",
    "Out of 2293 confirmed exoplanets, 2258 are found to be in higher energy frequency than Earth. It means that majority of exoplanets are closer to its star than Earth is to Sun. An example of high energy planet in our Solar System would be Mercury, where her Insolation flux > 1 (closer to the Sun, gets more energy).\n",
    "\n",
    "However, there's no exoplanet found to receive equal amount of energy as Earth does from the Sun, where it allows liquid water to exist."
   ]
  },
  {
   "cell_type": "markdown",
   "metadata": {},
   "source": [
    "# **Chapter 6: Feature Engineering**"
   ]
  },
  {
   "cell_type": "markdown",
   "metadata": {},
   "source": [
    "## **6.1. Handle Cardinality**"
   ]
  },
  {
   "cell_type": "markdown",
   "metadata": {},
   "source": [
    "The cardinality of a categorical variable refers to the number of unique labels it contains. In an ideal modeling process, it's advisable to reduce cardinality as much as possible, as high cardinality can lead to risks such as overfitting and underfitting. We will reassess the cardinality of our categorical variables save for dataset 2 to determine the best approach for handling them."
   ]
  },
  {
   "cell_type": "code",
   "execution_count": 15,
   "metadata": {},
   "outputs": [
    {
     "name": "stdout",
     "output_type": "stream",
     "text": [
      "Count of unique values in koi_disposition series is 3\n",
      "Count of unique values in koi_tce_delivname series is 4\n"
     ]
    }
   ],
   "source": [
    "# Step 1: Pick only categorical columns\n",
    "categorical_columns = df.select_dtypes(include='object').columns.tolist()\n",
    "\n",
    "# Step 2: Check unique values using loop\n",
    "for var in categorical_columns:\n",
    "    print(f'Count of unique values in {var} series is {len(df[var].unique())}')"
   ]
  },
  {
   "cell_type": "markdown",
   "metadata": {},
   "source": [
    "Since all categorical columns are in low cardinality level, there is no action needed to handle cardinality."
   ]
  },
  {
   "cell_type": "markdown",
   "metadata": {},
   "source": [
    "## **6.2. Split Features and Target**"
   ]
  },
  {
   "cell_type": "markdown",
   "metadata": {},
   "source": [
    "The first step in our process is to define the Features (X) and Target (y).\n",
    "\n",
    "Features serve as the input for the model, allowing it to make predictions. In contrast, the Target represents the output the model aims to predict. For this case, the designated Target is 'koi_disposition'."
   ]
  },
  {
   "cell_type": "code",
   "execution_count": 16,
   "metadata": {},
   "outputs": [],
   "source": [
    "# Step 1: Define Features/X/Independent\n",
    "X = df.drop('koi_disposition', axis=1)\n",
    "\n",
    "# Step 2: Define Target/y/Dependent\n",
    "y = df['koi_disposition']"
   ]
  },
  {
   "cell_type": "markdown",
   "metadata": {},
   "source": [
    "## **6.3. Split Train and Test**"
   ]
  },
  {
   "cell_type": "markdown",
   "metadata": {},
   "source": [
    "The need to split dataset into Train and Test relies on how machine needs to be tested once it's able to make prediction. Train Data is used to train the model, while the Test (Unseen) Data is used to assess the model’s ability to make accurate predictions. In simpler terms, Unseen Data is employed to evaluate the model's performance."
   ]
  },
  {
   "cell_type": "code",
   "execution_count": 17,
   "metadata": {},
   "outputs": [
    {
     "name": "stdout",
     "output_type": "stream",
     "text": [
      "(7173, 41)\n",
      "(7173,)\n",
      "(2391, 41)\n",
      "(2391,)\n"
     ]
    }
   ],
   "source": [
    "# Step 1: Split data into Train and Test\n",
    "# Test size or the sampled data used is set to 25%\n",
    "\n",
    "'''\n",
    "The allocated data used to train varies according to our needs and model's response.\n",
    "Larger train data means we want the data to be well represented,\n",
    "accurate (e.g. for medical diagnosis), or when the data rows is so small.\n",
    "\n",
    "In this case we are going to utilize 25% of our dataset as test data.\n",
    "\n",
    "We will also assign random_state as 42.\n",
    "\n",
    "Random state means to set the split similarly every time we run the code.\n",
    "However, we can assign any number since it's arbitrary.\n",
    "'''\n",
    "\n",
    "X_train, X_test, y_train, y_test = train_test_split(X, y, test_size=0.25, random_state=42)\n",
    "\n",
    "# Step 2: Check shape of splitted data\n",
    "print(X_train.shape)\n",
    "print(y_train.shape)\n",
    "print(X_test.shape)\n",
    "print(y_test.shape)"
   ]
  },
  {
   "cell_type": "markdown",
   "metadata": {},
   "source": [
    "## **6.4. Handling Outliers**"
   ]
  },
  {
   "cell_type": "markdown",
   "metadata": {},
   "source": [
    "Three ways of handling outliers present in the dataset are:\n",
    "\n",
    "> **Remove Them:** If they are irrelevant or errors. For example, we can judge that certain values are merely typo or are a mislabeling cause. The apporach would be to just remove them.\n",
    "\n",
    "\n",
    "> **Cap or Floor Them:**  Assign new values to outliers if they (i) represent real-world data or if (ii) there is a need for the values present while avoiding distortion.\n",
    "\n",
    "\n",
    "> **Retain Them:** If it is actually necessary to keep the data to represent analysis, it is wise to retain outliers. For example, if it's useful to know the disparity of monthly salary in a city."
   ]
  },
  {
   "cell_type": "code",
   "execution_count": 18,
   "metadata": {},
   "outputs": [],
   "source": [
    "# Step 1: Define categorical columns\n",
    "cat_cols = [\n",
    "    'koi_fpflag_nt', \n",
    "    'koi_fpflag_ss', \n",
    "    'koi_fpflag_co', \n",
    "    'koi_tce_plnt_num', \n",
    "    'koi_tce_delivname'\n",
    "]\n",
    "\n",
    "# Step 2: Define numerical columns\n",
    "num_cols = [\n",
    "    'koi_period', 'koi_period_err1', 'koi_period_err2', \n",
    "    'koi_time0bk', 'koi_time0bk_err1', 'koi_time0bk_err2', \n",
    "    'koi_impact', 'koi_impact_err1', 'koi_impact_err2', \n",
    "    'koi_duration', 'koi_duration_err1', 'koi_duration_err2', \n",
    "    'koi_depth', 'koi_depth_err1', 'koi_depth_err2', \n",
    "    'koi_prad', 'koi_prad_err1', 'koi_prad_err2', \n",
    "    'koi_teq', 'koi_insol', 'koi_insol_err1', 'koi_insol_err2', \n",
    "    'koi_model_snr', 'koi_steff', 'koi_steff_err1', 'koi_steff_err2', \n",
    "    'koi_slogg', 'koi_slogg_err1', 'koi_slogg_err2', \n",
    "    'koi_srad', 'koi_srad_err1', 'koi_srad_err2', \n",
    "    'ra', 'dec', 'koi_kepmag'\n",
    "]"
   ]
  },
  {
   "cell_type": "code",
   "execution_count": 19,
   "metadata": {},
   "outputs": [
    {
     "data": {
      "text/html": [
       "<div>\n",
       "<style scoped>\n",
       "    .dataframe tbody tr th:only-of-type {\n",
       "        vertical-align: middle;\n",
       "    }\n",
       "\n",
       "    .dataframe tbody tr th {\n",
       "        vertical-align: top;\n",
       "    }\n",
       "\n",
       "    .dataframe thead th {\n",
       "        text-align: right;\n",
       "    }\n",
       "</style>\n",
       "<table border=\"1\" class=\"dataframe\">\n",
       "  <thead>\n",
       "    <tr style=\"text-align: right;\">\n",
       "      <th></th>\n",
       "      <th>nama kolom</th>\n",
       "      <th>nilai skewness</th>\n",
       "      <th>distribution</th>\n",
       "    </tr>\n",
       "  </thead>\n",
       "  <tbody>\n",
       "    <tr>\n",
       "      <th>0</th>\n",
       "      <td>koi_period</td>\n",
       "      <td>83.8</td>\n",
       "      <td>skewed</td>\n",
       "    </tr>\n",
       "    <tr>\n",
       "      <th>1</th>\n",
       "      <td>koi_period_err1</td>\n",
       "      <td>8.6</td>\n",
       "      <td>skewed</td>\n",
       "    </tr>\n",
       "    <tr>\n",
       "      <th>2</th>\n",
       "      <td>koi_period_err2</td>\n",
       "      <td>-8.6</td>\n",
       "      <td>skewed</td>\n",
       "    </tr>\n",
       "    <tr>\n",
       "      <th>3</th>\n",
       "      <td>koi_time0bk</td>\n",
       "      <td>3.0</td>\n",
       "      <td>skewed</td>\n",
       "    </tr>\n",
       "    <tr>\n",
       "      <th>4</th>\n",
       "      <td>koi_time0bk_err1</td>\n",
       "      <td>10.9</td>\n",
       "      <td>skewed</td>\n",
       "    </tr>\n",
       "    <tr>\n",
       "      <th>5</th>\n",
       "      <td>koi_time0bk_err2</td>\n",
       "      <td>-10.9</td>\n",
       "      <td>skewed</td>\n",
       "    </tr>\n",
       "    <tr>\n",
       "      <th>6</th>\n",
       "      <td>koi_impact</td>\n",
       "      <td>21.8</td>\n",
       "      <td>skewed</td>\n",
       "    </tr>\n",
       "    <tr>\n",
       "      <th>7</th>\n",
       "      <td>koi_impact_err1</td>\n",
       "      <td>6.4</td>\n",
       "      <td>skewed</td>\n",
       "    </tr>\n",
       "    <tr>\n",
       "      <th>8</th>\n",
       "      <td>koi_impact_err2</td>\n",
       "      <td>-25.0</td>\n",
       "      <td>skewed</td>\n",
       "    </tr>\n",
       "    <tr>\n",
       "      <th>9</th>\n",
       "      <td>koi_duration</td>\n",
       "      <td>6.0</td>\n",
       "      <td>skewed</td>\n",
       "    </tr>\n",
       "    <tr>\n",
       "      <th>10</th>\n",
       "      <td>koi_duration_err1</td>\n",
       "      <td>8.6</td>\n",
       "      <td>skewed</td>\n",
       "    </tr>\n",
       "    <tr>\n",
       "      <th>11</th>\n",
       "      <td>koi_duration_err2</td>\n",
       "      <td>-8.6</td>\n",
       "      <td>skewed</td>\n",
       "    </tr>\n",
       "    <tr>\n",
       "      <th>12</th>\n",
       "      <td>koi_depth</td>\n",
       "      <td>5.0</td>\n",
       "      <td>skewed</td>\n",
       "    </tr>\n",
       "    <tr>\n",
       "      <th>13</th>\n",
       "      <td>koi_depth_err1</td>\n",
       "      <td>46.8</td>\n",
       "      <td>skewed</td>\n",
       "    </tr>\n",
       "    <tr>\n",
       "      <th>14</th>\n",
       "      <td>koi_depth_err2</td>\n",
       "      <td>-46.8</td>\n",
       "      <td>skewed</td>\n",
       "    </tr>\n",
       "    <tr>\n",
       "      <th>15</th>\n",
       "      <td>koi_prad</td>\n",
       "      <td>45.7</td>\n",
       "      <td>skewed</td>\n",
       "    </tr>\n",
       "    <tr>\n",
       "      <th>16</th>\n",
       "      <td>koi_prad_err1</td>\n",
       "      <td>38.5</td>\n",
       "      <td>skewed</td>\n",
       "    </tr>\n",
       "    <tr>\n",
       "      <th>17</th>\n",
       "      <td>koi_prad_err2</td>\n",
       "      <td>-49.5</td>\n",
       "      <td>skewed</td>\n",
       "    </tr>\n",
       "    <tr>\n",
       "      <th>18</th>\n",
       "      <td>koi_teq</td>\n",
       "      <td>3.3</td>\n",
       "      <td>skewed</td>\n",
       "    </tr>\n",
       "    <tr>\n",
       "      <th>19</th>\n",
       "      <td>koi_insol</td>\n",
       "      <td>59.8</td>\n",
       "      <td>skewed</td>\n",
       "    </tr>\n",
       "    <tr>\n",
       "      <th>20</th>\n",
       "      <td>koi_insol_err1</td>\n",
       "      <td>43.9</td>\n",
       "      <td>skewed</td>\n",
       "    </tr>\n",
       "    <tr>\n",
       "      <th>21</th>\n",
       "      <td>koi_insol_err2</td>\n",
       "      <td>-62.1</td>\n",
       "      <td>skewed</td>\n",
       "    </tr>\n",
       "    <tr>\n",
       "      <th>22</th>\n",
       "      <td>koi_model_snr</td>\n",
       "      <td>5.3</td>\n",
       "      <td>skewed</td>\n",
       "    </tr>\n",
       "    <tr>\n",
       "      <th>23</th>\n",
       "      <td>koi_steff</td>\n",
       "      <td>0.9</td>\n",
       "      <td>skewed</td>\n",
       "    </tr>\n",
       "    <tr>\n",
       "      <th>24</th>\n",
       "      <td>koi_steff_err1</td>\n",
       "      <td>0.8</td>\n",
       "      <td>skewed</td>\n",
       "    </tr>\n",
       "    <tr>\n",
       "      <th>25</th>\n",
       "      <td>koi_steff_err2</td>\n",
       "      <td>-4.1</td>\n",
       "      <td>skewed</td>\n",
       "    </tr>\n",
       "    <tr>\n",
       "      <th>26</th>\n",
       "      <td>koi_slogg</td>\n",
       "      <td>-3.4</td>\n",
       "      <td>skewed</td>\n",
       "    </tr>\n",
       "    <tr>\n",
       "      <th>27</th>\n",
       "      <td>koi_slogg_err1</td>\n",
       "      <td>3.0</td>\n",
       "      <td>skewed</td>\n",
       "    </tr>\n",
       "    <tr>\n",
       "      <th>28</th>\n",
       "      <td>koi_slogg_err2</td>\n",
       "      <td>-1.8</td>\n",
       "      <td>skewed</td>\n",
       "    </tr>\n",
       "    <tr>\n",
       "      <th>29</th>\n",
       "      <td>koi_srad</td>\n",
       "      <td>22.4</td>\n",
       "      <td>skewed</td>\n",
       "    </tr>\n",
       "    <tr>\n",
       "      <th>30</th>\n",
       "      <td>koi_srad_err1</td>\n",
       "      <td>17.1</td>\n",
       "      <td>skewed</td>\n",
       "    </tr>\n",
       "    <tr>\n",
       "      <th>31</th>\n",
       "      <td>koi_srad_err2</td>\n",
       "      <td>-38.7</td>\n",
       "      <td>skewed</td>\n",
       "    </tr>\n",
       "    <tr>\n",
       "      <th>32</th>\n",
       "      <td>ra</td>\n",
       "      <td>-0.3</td>\n",
       "      <td>normal</td>\n",
       "    </tr>\n",
       "    <tr>\n",
       "      <th>33</th>\n",
       "      <td>dec</td>\n",
       "      <td>0.2</td>\n",
       "      <td>normal</td>\n",
       "    </tr>\n",
       "    <tr>\n",
       "      <th>34</th>\n",
       "      <td>koi_kepmag</td>\n",
       "      <td>-0.8</td>\n",
       "      <td>skewed</td>\n",
       "    </tr>\n",
       "  </tbody>\n",
       "</table>\n",
       "</div>"
      ],
      "text/plain": [
       "           nama kolom  nilai skewness distribution\n",
       "0          koi_period            83.8       skewed\n",
       "1     koi_period_err1             8.6       skewed\n",
       "2     koi_period_err2            -8.6       skewed\n",
       "3         koi_time0bk             3.0       skewed\n",
       "4    koi_time0bk_err1            10.9       skewed\n",
       "5    koi_time0bk_err2           -10.9       skewed\n",
       "6          koi_impact            21.8       skewed\n",
       "7     koi_impact_err1             6.4       skewed\n",
       "8     koi_impact_err2           -25.0       skewed\n",
       "9        koi_duration             6.0       skewed\n",
       "10  koi_duration_err1             8.6       skewed\n",
       "11  koi_duration_err2            -8.6       skewed\n",
       "12          koi_depth             5.0       skewed\n",
       "13     koi_depth_err1            46.8       skewed\n",
       "14     koi_depth_err2           -46.8       skewed\n",
       "15           koi_prad            45.7       skewed\n",
       "16      koi_prad_err1            38.5       skewed\n",
       "17      koi_prad_err2           -49.5       skewed\n",
       "18            koi_teq             3.3       skewed\n",
       "19          koi_insol            59.8       skewed\n",
       "20     koi_insol_err1            43.9       skewed\n",
       "21     koi_insol_err2           -62.1       skewed\n",
       "22      koi_model_snr             5.3       skewed\n",
       "23          koi_steff             0.9       skewed\n",
       "24     koi_steff_err1             0.8       skewed\n",
       "25     koi_steff_err2            -4.1       skewed\n",
       "26          koi_slogg            -3.4       skewed\n",
       "27     koi_slogg_err1             3.0       skewed\n",
       "28     koi_slogg_err2            -1.8       skewed\n",
       "29           koi_srad            22.4       skewed\n",
       "30      koi_srad_err1            17.1       skewed\n",
       "31      koi_srad_err2           -38.7       skewed\n",
       "32                 ra            -0.3       normal\n",
       "33                dec             0.2       normal\n",
       "34         koi_kepmag            -0.8       skewed"
      ]
     },
     "execution_count": 19,
     "metadata": {},
     "output_type": "execute_result"
    }
   ],
   "source": [
    "# Step 3: Check the distribution to find skewness for numerical columns\n",
    "listItem= []\n",
    "\n",
    "for col in num_cols: # Iterate through numerical columns\n",
    "   listItem.append([col, round(X_train[col].skew(),1), np.where(\n",
    "     (round(X_train[col].skew(),1) <= 0.5) & (round(X_train[col].skew(),1) >= -0.5),\n",
    "     'normal',\n",
    "     'skewed')])\n",
    "\n",
    "# Step 4: Define a new variable and convert result to dataframe\n",
    "skewness = pd.DataFrame(columns=['nama kolom', 'nilai skewness', 'distribution'], data= listItem)\n",
    "skewness"
   ]
  },
  {
   "cell_type": "markdown",
   "metadata": {},
   "source": [
    "It is observed that most of the series are skewed in distribution, which may eventually describe series with outliers. The following cell code will check the percentage of outliers in each series."
   ]
  },
  {
   "cell_type": "code",
   "execution_count": 20,
   "metadata": {},
   "outputs": [
    {
     "data": {
      "text/html": [
       "<div>\n",
       "<style scoped>\n",
       "    .dataframe tbody tr th:only-of-type {\n",
       "        vertical-align: middle;\n",
       "    }\n",
       "\n",
       "    .dataframe tbody tr th {\n",
       "        vertical-align: top;\n",
       "    }\n",
       "\n",
       "    .dataframe thead th {\n",
       "        text-align: right;\n",
       "    }\n",
       "</style>\n",
       "<table border=\"1\" class=\"dataframe\">\n",
       "  <thead>\n",
       "    <tr style=\"text-align: right;\">\n",
       "      <th></th>\n",
       "      <th>column</th>\n",
       "      <th>upper_boundary</th>\n",
       "      <th>lower_boundary</th>\n",
       "      <th>percentage_total_outlier</th>\n",
       "    </tr>\n",
       "  </thead>\n",
       "  <tbody>\n",
       "    <tr>\n",
       "      <th>0</th>\n",
       "      <td>koi_period</td>\n",
       "      <td>159.45</td>\n",
       "      <td>-114.87</td>\n",
       "      <td>13.27</td>\n",
       "    </tr>\n",
       "    <tr>\n",
       "      <th>1</th>\n",
       "      <td>koi_period_err1</td>\n",
       "      <td>0.00</td>\n",
       "      <td>-0.00</td>\n",
       "      <td>15.01</td>\n",
       "    </tr>\n",
       "    <tr>\n",
       "      <th>2</th>\n",
       "      <td>koi_period_err2</td>\n",
       "      <td>0.00</td>\n",
       "      <td>-0.00</td>\n",
       "      <td>15.01</td>\n",
       "    </tr>\n",
       "    <tr>\n",
       "      <th>3</th>\n",
       "      <td>koi_time0bk</td>\n",
       "      <td>284.54</td>\n",
       "      <td>18.93</td>\n",
       "      <td>7.14</td>\n",
       "    </tr>\n",
       "    <tr>\n",
       "      <th>4</th>\n",
       "      <td>koi_time0bk_err1</td>\n",
       "      <td>0.04</td>\n",
       "      <td>-0.03</td>\n",
       "      <td>4.28</td>\n",
       "    </tr>\n",
       "    <tr>\n",
       "      <th>5</th>\n",
       "      <td>koi_time0bk_err2</td>\n",
       "      <td>0.03</td>\n",
       "      <td>-0.04</td>\n",
       "      <td>4.28</td>\n",
       "    </tr>\n",
       "    <tr>\n",
       "      <th>6</th>\n",
       "      <td>koi_impact</td>\n",
       "      <td>2.95</td>\n",
       "      <td>-1.86</td>\n",
       "      <td>0.70</td>\n",
       "    </tr>\n",
       "    <tr>\n",
       "      <th>7</th>\n",
       "      <td>koi_impact_err1</td>\n",
       "      <td>1.39</td>\n",
       "      <td>-0.97</td>\n",
       "      <td>6.76</td>\n",
       "    </tr>\n",
       "    <tr>\n",
       "      <th>8</th>\n",
       "      <td>koi_impact_err2</td>\n",
       "      <td>1.16</td>\n",
       "      <td>-1.65</td>\n",
       "      <td>0.98</td>\n",
       "    </tr>\n",
       "    <tr>\n",
       "      <th>9</th>\n",
       "      <td>koi_duration</td>\n",
       "      <td>18.02</td>\n",
       "      <td>-9.25</td>\n",
       "      <td>3.71</td>\n",
       "    </tr>\n",
       "    <tr>\n",
       "      <th>10</th>\n",
       "      <td>koi_duration_err1</td>\n",
       "      <td>1.27</td>\n",
       "      <td>-0.86</td>\n",
       "      <td>5.31</td>\n",
       "    </tr>\n",
       "    <tr>\n",
       "      <th>11</th>\n",
       "      <td>koi_duration_err2</td>\n",
       "      <td>0.86</td>\n",
       "      <td>-1.27</td>\n",
       "      <td>5.31</td>\n",
       "    </tr>\n",
       "    <tr>\n",
       "      <th>12</th>\n",
       "      <td>koi_depth</td>\n",
       "      <td>5245.40</td>\n",
       "      <td>-3657.72</td>\n",
       "      <td>16.97</td>\n",
       "    </tr>\n",
       "    <tr>\n",
       "      <th>13</th>\n",
       "      <td>koi_depth_err1</td>\n",
       "      <td>169.90</td>\n",
       "      <td>-110.80</td>\n",
       "      <td>7.54</td>\n",
       "    </tr>\n",
       "    <tr>\n",
       "      <th>14</th>\n",
       "      <td>koi_depth_err2</td>\n",
       "      <td>110.80</td>\n",
       "      <td>-169.90</td>\n",
       "      <td>7.54</td>\n",
       "    </tr>\n",
       "    <tr>\n",
       "      <th>15</th>\n",
       "      <td>koi_prad</td>\n",
       "      <td>54.31</td>\n",
       "      <td>-38.28</td>\n",
       "      <td>9.45</td>\n",
       "    </tr>\n",
       "    <tr>\n",
       "      <th>16</th>\n",
       "      <td>koi_prad_err1</td>\n",
       "      <td>8.34</td>\n",
       "      <td>-5.85</td>\n",
       "      <td>14.11</td>\n",
       "    </tr>\n",
       "    <tr>\n",
       "      <th>17</th>\n",
       "      <td>koi_prad_err2</td>\n",
       "      <td>5.24</td>\n",
       "      <td>-7.29</td>\n",
       "      <td>10.79</td>\n",
       "    </tr>\n",
       "    <tr>\n",
       "      <th>18</th>\n",
       "      <td>koi_teq</td>\n",
       "      <td>3951.00</td>\n",
       "      <td>-2027.00</td>\n",
       "      <td>1.07</td>\n",
       "    </tr>\n",
       "    <tr>\n",
       "      <th>19</th>\n",
       "      <td>koi_insol</td>\n",
       "      <td>3529.07</td>\n",
       "      <td>-2612.73</td>\n",
       "      <td>11.07</td>\n",
       "    </tr>\n",
       "    <tr>\n",
       "      <th>20</th>\n",
       "      <td>koi_insol_err1</td>\n",
       "      <td>2111.02</td>\n",
       "      <td>-1567.53</td>\n",
       "      <td>12.46</td>\n",
       "    </tr>\n",
       "    <tr>\n",
       "      <th>21</th>\n",
       "      <td>koi_insol_err2</td>\n",
       "      <td>856.52</td>\n",
       "      <td>-1153.86</td>\n",
       "      <td>11.72</td>\n",
       "    </tr>\n",
       "    <tr>\n",
       "      <th>22</th>\n",
       "      <td>koi_model_snr</td>\n",
       "      <td>270.40</td>\n",
       "      <td>-181.80</td>\n",
       "      <td>13.98</td>\n",
       "    </tr>\n",
       "    <tr>\n",
       "      <th>23</th>\n",
       "      <td>koi_steff</td>\n",
       "      <td>8533.00</td>\n",
       "      <td>2891.00</td>\n",
       "      <td>0.88</td>\n",
       "    </tr>\n",
       "    <tr>\n",
       "      <th>24</th>\n",
       "      <td>koi_steff_err1</td>\n",
       "      <td>378.00</td>\n",
       "      <td>-98.00</td>\n",
       "      <td>0.20</td>\n",
       "    </tr>\n",
       "    <tr>\n",
       "      <th>25</th>\n",
       "      <td>koi_steff_err2</td>\n",
       "      <td>142.00</td>\n",
       "      <td>-453.00</td>\n",
       "      <td>0.39</td>\n",
       "    </tr>\n",
       "    <tr>\n",
       "      <th>26</th>\n",
       "      <td>koi_slogg</td>\n",
       "      <td>5.54</td>\n",
       "      <td>3.22</td>\n",
       "      <td>2.73</td>\n",
       "    </tr>\n",
       "    <tr>\n",
       "      <th>27</th>\n",
       "      <td>koi_slogg_err1</td>\n",
       "      <td>0.47</td>\n",
       "      <td>-0.28</td>\n",
       "      <td>2.80</td>\n",
       "    </tr>\n",
       "    <tr>\n",
       "      <th>28</th>\n",
       "      <td>koi_slogg_err2</td>\n",
       "      <td>0.24</td>\n",
       "      <td>-0.52</td>\n",
       "      <td>0.36</td>\n",
       "    </tr>\n",
       "    <tr>\n",
       "      <th>29</th>\n",
       "      <td>koi_srad</td>\n",
       "      <td>2.91</td>\n",
       "      <td>-0.73</td>\n",
       "      <td>6.09</td>\n",
       "    </tr>\n",
       "    <tr>\n",
       "      <th>30</th>\n",
       "      <td>koi_srad_err1</td>\n",
       "      <td>1.06</td>\n",
       "      <td>-0.57</td>\n",
       "      <td>3.53</td>\n",
       "    </tr>\n",
       "    <tr>\n",
       "      <th>31</th>\n",
       "      <td>koi_srad_err2</td>\n",
       "      <td>0.48</td>\n",
       "      <td>-0.80</td>\n",
       "      <td>9.37</td>\n",
       "    </tr>\n",
       "    <tr>\n",
       "      <th>32</th>\n",
       "      <td>ra</td>\n",
       "      <td>306.28</td>\n",
       "      <td>277.86</td>\n",
       "      <td>0.00</td>\n",
       "    </tr>\n",
       "    <tr>\n",
       "      <th>33</th>\n",
       "      <td>dec</td>\n",
       "      <td>54.54</td>\n",
       "      <td>33.00</td>\n",
       "      <td>0.00</td>\n",
       "    </tr>\n",
       "    <tr>\n",
       "      <th>34</th>\n",
       "      <td>koi_kepmag</td>\n",
       "      <td>20.93</td>\n",
       "      <td>7.82</td>\n",
       "      <td>0.06</td>\n",
       "    </tr>\n",
       "  </tbody>\n",
       "</table>\n",
       "</div>"
      ],
      "text/plain": [
       "               column  upper_boundary  lower_boundary  \\\n",
       "0          koi_period          159.45         -114.87   \n",
       "1     koi_period_err1            0.00           -0.00   \n",
       "2     koi_period_err2            0.00           -0.00   \n",
       "3         koi_time0bk          284.54           18.93   \n",
       "4    koi_time0bk_err1            0.04           -0.03   \n",
       "5    koi_time0bk_err2            0.03           -0.04   \n",
       "6          koi_impact            2.95           -1.86   \n",
       "7     koi_impact_err1            1.39           -0.97   \n",
       "8     koi_impact_err2            1.16           -1.65   \n",
       "9        koi_duration           18.02           -9.25   \n",
       "10  koi_duration_err1            1.27           -0.86   \n",
       "11  koi_duration_err2            0.86           -1.27   \n",
       "12          koi_depth         5245.40        -3657.72   \n",
       "13     koi_depth_err1          169.90         -110.80   \n",
       "14     koi_depth_err2          110.80         -169.90   \n",
       "15           koi_prad           54.31          -38.28   \n",
       "16      koi_prad_err1            8.34           -5.85   \n",
       "17      koi_prad_err2            5.24           -7.29   \n",
       "18            koi_teq         3951.00        -2027.00   \n",
       "19          koi_insol         3529.07        -2612.73   \n",
       "20     koi_insol_err1         2111.02        -1567.53   \n",
       "21     koi_insol_err2          856.52        -1153.86   \n",
       "22      koi_model_snr          270.40         -181.80   \n",
       "23          koi_steff         8533.00         2891.00   \n",
       "24     koi_steff_err1          378.00          -98.00   \n",
       "25     koi_steff_err2          142.00         -453.00   \n",
       "26          koi_slogg            5.54            3.22   \n",
       "27     koi_slogg_err1            0.47           -0.28   \n",
       "28     koi_slogg_err2            0.24           -0.52   \n",
       "29           koi_srad            2.91           -0.73   \n",
       "30      koi_srad_err1            1.06           -0.57   \n",
       "31      koi_srad_err2            0.48           -0.80   \n",
       "32                 ra          306.28          277.86   \n",
       "33                dec           54.54           33.00   \n",
       "34         koi_kepmag           20.93            7.82   \n",
       "\n",
       "    percentage_total_outlier  \n",
       "0                      13.27  \n",
       "1                      15.01  \n",
       "2                      15.01  \n",
       "3                       7.14  \n",
       "4                       4.28  \n",
       "5                       4.28  \n",
       "6                       0.70  \n",
       "7                       6.76  \n",
       "8                       0.98  \n",
       "9                       3.71  \n",
       "10                      5.31  \n",
       "11                      5.31  \n",
       "12                     16.97  \n",
       "13                      7.54  \n",
       "14                      7.54  \n",
       "15                      9.45  \n",
       "16                     14.11  \n",
       "17                     10.79  \n",
       "18                      1.07  \n",
       "19                     11.07  \n",
       "20                     12.46  \n",
       "21                     11.72  \n",
       "22                     13.98  \n",
       "23                      0.88  \n",
       "24                      0.20  \n",
       "25                      0.39  \n",
       "26                      2.73  \n",
       "27                      2.80  \n",
       "28                      0.36  \n",
       "29                      6.09  \n",
       "30                      3.53  \n",
       "31                      9.37  \n",
       "32                      0.00  \n",
       "33                      0.00  \n",
       "34                      0.06  "
      ]
     },
     "execution_count": 20,
     "metadata": {},
     "output_type": "execute_result"
    }
   ],
   "source": [
    "# Step 5: Get upper, lower boundaries and percentage of outliers\n",
    "\n",
    "column = []\n",
    "lower_bound = []\n",
    "upper_bound = []\n",
    "percent_total_outlier = []\n",
    "\n",
    "for row in range (0, len(skewness)): # Iterate through distribution\n",
    "  col = skewness['nama kolom'][row]\n",
    "\n",
    "  # Checking upper and lower boundary\n",
    "  if skewness['distribution'][row] == 'skewed':\n",
    "    IQR = X_train[col].quantile(0.75) - X_train[col].quantile(0.25)\n",
    "    lower_boundary = X_train[col].quantile(0.25) - (IQR * 3)\n",
    "    upper_boundary = X_train[col].quantile(0.75) + (IQR * 3)\n",
    "  else:\n",
    "    lower_boundary = X_train[col].mean() - 3* X_train[col].std()\n",
    "    upper_boundary = X_train[col].mean() + 3* X_train[col].std()\n",
    "\n",
    "  # Append to list\n",
    "  column.append(col)\n",
    "  lower_bound.append(lower_boundary)\n",
    "  upper_bound.append(upper_boundary)\n",
    "  totout = ((len(X_train[X_train[col] > upper_boundary]) / len(X_train) * 100) + (len(X_train[X_train[col] < lower_boundary]) / len(X_train) * 100))\n",
    "  percent_total_outlier.append(totout)\n",
    "\n",
    "outliers = pd.DataFrame({\n",
    "    'column': column,\n",
    "    # Round the value\n",
    "    'upper_boundary': [round(upper_bound,2) for upper_bound in upper_bound],\n",
    "    'lower_boundary': [round(lower_bound,2) for lower_bound in lower_bound],\n",
    "    'percentage_total_outlier': [round(percent_total_outlier,2) for percent_total_outlier in percent_total_outlier]\n",
    "})\n",
    "outliers"
   ]
  },
  {
   "cell_type": "markdown",
   "metadata": {},
   "source": [
    "It is observed that many series contain outliers above 5%. Usually, these kind of outliers need to be handled by capping or removing them.\n",
    "\n",
    "However, *outliers in this dataset might represent unique or unusual planets, such as extreme gas giants or very small rocky planets*. Removing them could result in a loss of valuable information. In astronomy, extreme values often represent interesting phenomena rather than errors.\n",
    "\n",
    "Therefore, it is concluded that outliers present will not be handled but rather retained. This is to ensure that the dataset can provide the actual representation of what Kepler space tellescope discovered during its tiring and lengthy mission."
   ]
  },
  {
   "cell_type": "markdown",
   "metadata": {},
   "source": [
    "## **6.5. Handling Missing Values**"
   ]
  },
  {
   "cell_type": "markdown",
   "metadata": {},
   "source": [
    "Handling missing values is necessary in order to make the model work properly. This section will identify if there is any missing values present in the dataset."
   ]
  },
  {
   "cell_type": "code",
   "execution_count": 21,
   "metadata": {},
   "outputs": [
    {
     "data": {
      "text/plain": [
       "koi_fpflag_nt          0\n",
       "koi_fpflag_ss          0\n",
       "koi_fpflag_co          0\n",
       "koi_fpflag_ec          0\n",
       "koi_period             0\n",
       "koi_period_err1      348\n",
       "koi_period_err2      348\n",
       "koi_time0bk            0\n",
       "koi_time0bk_err1     348\n",
       "koi_time0bk_err2     348\n",
       "koi_impact           275\n",
       "koi_impact_err1      348\n",
       "koi_impact_err2      348\n",
       "koi_duration           0\n",
       "koi_duration_err1    348\n",
       "koi_duration_err2    348\n",
       "koi_depth            275\n",
       "koi_depth_err1       348\n",
       "koi_depth_err2       348\n",
       "koi_prad             275\n",
       "koi_prad_err1        275\n",
       "koi_prad_err2        275\n",
       "koi_teq              275\n",
       "koi_insol            241\n",
       "koi_insol_err1       241\n",
       "koi_insol_err2       241\n",
       "koi_model_snr        275\n",
       "koi_tce_plnt_num     247\n",
       "koi_tce_delivname    247\n",
       "koi_steff            275\n",
       "koi_steff_err1       347\n",
       "koi_steff_err2       360\n",
       "koi_slogg            275\n",
       "koi_slogg_err1       347\n",
       "koi_slogg_err2       347\n",
       "koi_srad             275\n",
       "koi_srad_err1        347\n",
       "koi_srad_err2        347\n",
       "ra                     0\n",
       "dec                    0\n",
       "koi_kepmag             1\n",
       "dtype: int64"
      ]
     },
     "execution_count": 21,
     "metadata": {},
     "output_type": "execute_result"
    }
   ],
   "source": [
    "# Step 1: Check the sum of null values in X1 train\n",
    "X_train.isnull().sum()"
   ]
  },
  {
   "cell_type": "markdown",
   "metadata": {},
   "source": [
    "It is observed that the missing values can be defined as Missing at Random (MAR). Missing at Random simply means that ‘the data is missing  **but it relates to the other variables**.’\n",
    "\n",
    "Thus, the best way to handle MAR missing values issue is to do imputation. Imputation can be done by using central tendency (mean/median/mode).\n",
    "\n",
    "Since the dataset is skewed, it is wise to do imputation with median specific for numerical values. Save for categorical values, it's concluded that the best and only imputation method that works is by using mode central tendency."
   ]
  },
  {
   "cell_type": "code",
   "execution_count": 22,
   "metadata": {},
   "outputs": [],
   "source": [
    "# Step 2: Imputation for categorical columns\n",
    "# Select categorical columns from X_train\n",
    "col_train = X_train[cat_cols]\n",
    "\n",
    "# Step 3: Fill missing values in X_train using the mode of each column\n",
    "X_train[cat_cols] = col_train.apply(lambda col: col.fillna(col.mode()[0]))\n",
    "\n",
    "# Step 4: Fill missing values in X_test using the mode from X_train\n",
    "for col in cat_cols:\n",
    "    X_test[col] = X_test[col].fillna(X_train[col].mode()[0])"
   ]
  },
  {
   "cell_type": "code",
   "execution_count": 23,
   "metadata": {},
   "outputs": [],
   "source": [
    "# Step 5: Imputation for numerical columns\n",
    "# Select numerical columns from X_train\n",
    "num_train = X_train[num_cols]\n",
    "\n",
    "# Step 6: Fill missing values in X_train using the mode of each column\n",
    "X_train[num_cols] = num_train.apply(lambda col: col.fillna(col.median()))\n",
    "\n",
    "# Step 7: Fill missing values in X_test using the mode from X_train\n",
    "for col in num_cols:\n",
    "    X_test[col] = X_test[col].fillna(X_train[col].median())"
   ]
  },
  {
   "cell_type": "code",
   "execution_count": 24,
   "metadata": {},
   "outputs": [
    {
     "data": {
      "text/plain": [
       "koi_fpflag_nt        0\n",
       "koi_fpflag_ss        0\n",
       "koi_fpflag_co        0\n",
       "koi_fpflag_ec        0\n",
       "koi_period           0\n",
       "koi_period_err1      0\n",
       "koi_period_err2      0\n",
       "koi_time0bk          0\n",
       "koi_time0bk_err1     0\n",
       "koi_time0bk_err2     0\n",
       "koi_impact           0\n",
       "koi_impact_err1      0\n",
       "koi_impact_err2      0\n",
       "koi_duration         0\n",
       "koi_duration_err1    0\n",
       "koi_duration_err2    0\n",
       "koi_depth            0\n",
       "koi_depth_err1       0\n",
       "koi_depth_err2       0\n",
       "koi_prad             0\n",
       "koi_prad_err1        0\n",
       "koi_prad_err2        0\n",
       "koi_teq              0\n",
       "koi_insol            0\n",
       "koi_insol_err1       0\n",
       "koi_insol_err2       0\n",
       "koi_model_snr        0\n",
       "koi_tce_plnt_num     0\n",
       "koi_tce_delivname    0\n",
       "koi_steff            0\n",
       "koi_steff_err1       0\n",
       "koi_steff_err2       0\n",
       "koi_slogg            0\n",
       "koi_slogg_err1       0\n",
       "koi_slogg_err2       0\n",
       "koi_srad             0\n",
       "koi_srad_err1        0\n",
       "koi_srad_err2        0\n",
       "ra                   0\n",
       "dec                  0\n",
       "koi_kepmag           0\n",
       "dtype: int64"
      ]
     },
     "execution_count": 24,
     "metadata": {},
     "output_type": "execute_result"
    }
   ],
   "source": [
    "# Step 8: Recheck occurrence of missing values after handling in Train\n",
    "X_train.isna().sum()"
   ]
  },
  {
   "cell_type": "code",
   "execution_count": 25,
   "metadata": {},
   "outputs": [
    {
     "data": {
      "text/plain": [
       "koi_fpflag_nt        0\n",
       "koi_fpflag_ss        0\n",
       "koi_fpflag_co        0\n",
       "koi_fpflag_ec        0\n",
       "koi_period           0\n",
       "koi_period_err1      0\n",
       "koi_period_err2      0\n",
       "koi_time0bk          0\n",
       "koi_time0bk_err1     0\n",
       "koi_time0bk_err2     0\n",
       "koi_impact           0\n",
       "koi_impact_err1      0\n",
       "koi_impact_err2      0\n",
       "koi_duration         0\n",
       "koi_duration_err1    0\n",
       "koi_duration_err2    0\n",
       "koi_depth            0\n",
       "koi_depth_err1       0\n",
       "koi_depth_err2       0\n",
       "koi_prad             0\n",
       "koi_prad_err1        0\n",
       "koi_prad_err2        0\n",
       "koi_teq              0\n",
       "koi_insol            0\n",
       "koi_insol_err1       0\n",
       "koi_insol_err2       0\n",
       "koi_model_snr        0\n",
       "koi_tce_plnt_num     0\n",
       "koi_tce_delivname    0\n",
       "koi_steff            0\n",
       "koi_steff_err1       0\n",
       "koi_steff_err2       0\n",
       "koi_slogg            0\n",
       "koi_slogg_err1       0\n",
       "koi_slogg_err2       0\n",
       "koi_srad             0\n",
       "koi_srad_err1        0\n",
       "koi_srad_err2        0\n",
       "ra                   0\n",
       "dec                  0\n",
       "koi_kepmag           0\n",
       "dtype: int64"
      ]
     },
     "execution_count": 25,
     "metadata": {},
     "output_type": "execute_result"
    }
   ],
   "source": [
    "# Step 9: Recheck occurrence of missing values after handling in Test\n",
    "X_test.isna().sum()"
   ]
  },
  {
   "cell_type": "markdown",
   "metadata": {},
   "source": [
    "## **6.6. Splitting Categorical & Numerical**"
   ]
  },
  {
   "cell_type": "code",
   "execution_count": 26,
   "metadata": {},
   "outputs": [
    {
     "name": "stdout",
     "output_type": "stream",
     "text": [
      "Numerical Columns:  ['koi_period', 'koi_period_err1', 'koi_period_err2', 'koi_time0bk', 'koi_time0bk_err1', 'koi_time0bk_err2', 'koi_impact', 'koi_impact_err1', 'koi_impact_err2', 'koi_duration', 'koi_duration_err1', 'koi_duration_err2', 'koi_depth', 'koi_depth_err1', 'koi_depth_err2', 'koi_prad', 'koi_prad_err1', 'koi_prad_err2', 'koi_teq', 'koi_insol', 'koi_insol_err1', 'koi_insol_err2', 'koi_model_snr', 'koi_steff', 'koi_steff_err1', 'koi_steff_err2', 'koi_slogg', 'koi_slogg_err1', 'koi_slogg_err2', 'koi_srad', 'koi_srad_err1', 'koi_srad_err2', 'ra', 'dec', 'koi_kepmag']\n",
      "Categorical Columns:  ['koi_fpflag_nt', 'koi_fpflag_ss', 'koi_fpflag_co', 'koi_tce_plnt_num', 'koi_tce_delivname']\n"
     ]
    }
   ],
   "source": [
    "# Step 1: Get numerical and categorical column\n",
    "\n",
    "print('Numerical Columns: ', num_cols)\n",
    "print('Categorical Columns: ', cat_cols)"
   ]
  },
  {
   "cell_type": "code",
   "execution_count": 27,
   "metadata": {},
   "outputs": [
    {
     "data": {
      "text/html": [
       "<div>\n",
       "<style scoped>\n",
       "    .dataframe tbody tr th:only-of-type {\n",
       "        vertical-align: middle;\n",
       "    }\n",
       "\n",
       "    .dataframe tbody tr th {\n",
       "        vertical-align: top;\n",
       "    }\n",
       "\n",
       "    .dataframe thead th {\n",
       "        text-align: right;\n",
       "    }\n",
       "</style>\n",
       "<table border=\"1\" class=\"dataframe\">\n",
       "  <thead>\n",
       "    <tr style=\"text-align: right;\">\n",
       "      <th></th>\n",
       "      <th>koi_fpflag_nt</th>\n",
       "      <th>koi_fpflag_ss</th>\n",
       "      <th>koi_fpflag_co</th>\n",
       "      <th>koi_tce_plnt_num</th>\n",
       "      <th>koi_tce_delivname</th>\n",
       "    </tr>\n",
       "  </thead>\n",
       "  <tbody>\n",
       "    <tr>\n",
       "      <th>0</th>\n",
       "      <td>0</td>\n",
       "      <td>0</td>\n",
       "      <td>0</td>\n",
       "      <td>1.0</td>\n",
       "      <td>q1_q17_dr25_tce</td>\n",
       "    </tr>\n",
       "    <tr>\n",
       "      <th>1</th>\n",
       "      <td>0</td>\n",
       "      <td>1</td>\n",
       "      <td>1</td>\n",
       "      <td>1.0</td>\n",
       "      <td>q1_q17_dr25_tce</td>\n",
       "    </tr>\n",
       "    <tr>\n",
       "      <th>2</th>\n",
       "      <td>0</td>\n",
       "      <td>0</td>\n",
       "      <td>0</td>\n",
       "      <td>1.0</td>\n",
       "      <td>q1_q17_dr25_tce</td>\n",
       "    </tr>\n",
       "    <tr>\n",
       "      <th>3</th>\n",
       "      <td>0</td>\n",
       "      <td>0</td>\n",
       "      <td>1</td>\n",
       "      <td>1.0</td>\n",
       "      <td>q1_q17_dr24_tce</td>\n",
       "    </tr>\n",
       "    <tr>\n",
       "      <th>4</th>\n",
       "      <td>1</td>\n",
       "      <td>0</td>\n",
       "      <td>0</td>\n",
       "      <td>1.0</td>\n",
       "      <td>q1_q16_tce</td>\n",
       "    </tr>\n",
       "    <tr>\n",
       "      <th>...</th>\n",
       "      <td>...</td>\n",
       "      <td>...</td>\n",
       "      <td>...</td>\n",
       "      <td>...</td>\n",
       "      <td>...</td>\n",
       "    </tr>\n",
       "    <tr>\n",
       "      <th>7168</th>\n",
       "      <td>0</td>\n",
       "      <td>0</td>\n",
       "      <td>1</td>\n",
       "      <td>1.0</td>\n",
       "      <td>q1_q17_dr25_tce</td>\n",
       "    </tr>\n",
       "    <tr>\n",
       "      <th>7169</th>\n",
       "      <td>0</td>\n",
       "      <td>1</td>\n",
       "      <td>0</td>\n",
       "      <td>1.0</td>\n",
       "      <td>q1_q17_dr25_tce</td>\n",
       "    </tr>\n",
       "    <tr>\n",
       "      <th>7170</th>\n",
       "      <td>0</td>\n",
       "      <td>1</td>\n",
       "      <td>0</td>\n",
       "      <td>1.0</td>\n",
       "      <td>q1_q17_dr25_tce</td>\n",
       "    </tr>\n",
       "    <tr>\n",
       "      <th>7171</th>\n",
       "      <td>0</td>\n",
       "      <td>0</td>\n",
       "      <td>0</td>\n",
       "      <td>1.0</td>\n",
       "      <td>q1_q17_dr25_tce</td>\n",
       "    </tr>\n",
       "    <tr>\n",
       "      <th>7172</th>\n",
       "      <td>0</td>\n",
       "      <td>0</td>\n",
       "      <td>1</td>\n",
       "      <td>2.0</td>\n",
       "      <td>q1_q17_dr25_tce</td>\n",
       "    </tr>\n",
       "  </tbody>\n",
       "</table>\n",
       "<p>7173 rows × 5 columns</p>\n",
       "</div>"
      ],
      "text/plain": [
       "      koi_fpflag_nt  koi_fpflag_ss  koi_fpflag_co  koi_tce_plnt_num  \\\n",
       "0                 0              0              0               1.0   \n",
       "1                 0              1              1               1.0   \n",
       "2                 0              0              0               1.0   \n",
       "3                 0              0              1               1.0   \n",
       "4                 1              0              0               1.0   \n",
       "...             ...            ...            ...               ...   \n",
       "7168              0              0              1               1.0   \n",
       "7169              0              1              0               1.0   \n",
       "7170              0              1              0               1.0   \n",
       "7171              0              0              0               1.0   \n",
       "7172              0              0              1               2.0   \n",
       "\n",
       "     koi_tce_delivname  \n",
       "0      q1_q17_dr25_tce  \n",
       "1      q1_q17_dr25_tce  \n",
       "2      q1_q17_dr25_tce  \n",
       "3      q1_q17_dr24_tce  \n",
       "4           q1_q16_tce  \n",
       "...                ...  \n",
       "7168   q1_q17_dr25_tce  \n",
       "7169   q1_q17_dr25_tce  \n",
       "7170   q1_q17_dr25_tce  \n",
       "7171   q1_q17_dr25_tce  \n",
       "7172   q1_q17_dr25_tce  \n",
       "\n",
       "[7173 rows x 5 columns]"
      ]
     },
     "execution_count": 27,
     "metadata": {},
     "output_type": "execute_result"
    }
   ],
   "source": [
    "# Step 2: Split numerical columns and categorical columns\n",
    "# Resetting index\n",
    "\n",
    "X_train_num = X_train[num_cols]\n",
    "X_train_num.reset_index(drop=True, inplace=True)\n",
    "\n",
    "X_train_cat = X_train[cat_cols]\n",
    "X_train_cat.reset_index(drop=True, inplace=True)\n",
    "\n",
    "X_test_num = X_test[num_cols]\n",
    "X_test_num.reset_index(drop=True, inplace=True)\n",
    "\n",
    "X_test_cat = X_test[cat_cols]\n",
    "X_test_cat.reset_index(drop=True, inplace=True)\n",
    "\n",
    "X_train_cat"
   ]
  },
  {
   "cell_type": "markdown",
   "metadata": {},
   "source": [
    "## **6.7. Feature Selection**"
   ]
  },
  {
   "cell_type": "markdown",
   "metadata": {},
   "source": [
    "### **6.7.1. Correlated Categorical Columns**"
   ]
  },
  {
   "cell_type": "code",
   "execution_count": 28,
   "metadata": {},
   "outputs": [
    {
     "name": "stdout",
     "output_type": "stream",
     "text": [
      "          nama kolom           hasil   p_value\n",
      "0      koi_fpflag_nt  not correlated  0.377112\n",
      "1      koi_fpflag_ss  not correlated  0.945455\n",
      "2      koi_fpflag_co  not correlated  0.590944\n",
      "3   koi_tce_plnt_num  not correlated  0.748765\n",
      "4  koi_tce_delivname  not correlated  0.303710\n"
     ]
    }
   ],
   "source": [
    "# Step 1: Feature Selection for Categorical Columns\n",
    "p_values = []\n",
    "interpretasi = []\n",
    "cols = []\n",
    "\n",
    "for col in X_train_cat.columns:\n",
    "    # Create a contingency table between the feature and the target\n",
    "    contingency_table = pd.crosstab(X_train_cat[col], y_train)\n",
    "    \n",
    "    # Perform the Chi-Square test\n",
    "    chi2, p_value, _, _ = chi2_contingency(contingency_table)\n",
    "    \n",
    "    p_values.append(p_value)\n",
    "    cols.append(col)\n",
    "    \n",
    "    # Interpret the p-value\n",
    "    if p_value < 0.05:\n",
    "        interpretasi.append('correlated')\n",
    "    else:\n",
    "        interpretasi.append('not correlated')\n",
    "\n",
    "# Step 2: Convert to DataFrame\n",
    "results = pd.DataFrame({'nama kolom': cols, 'hasil': interpretasi, 'p_value': p_values})\n",
    "\n",
    "# Display the results\n",
    "print(results)\n"
   ]
  },
  {
   "cell_type": "markdown",
   "metadata": {},
   "source": [
    "Since none of the categorical columns are correlated to Target, it will not be considered in the next analysis. The analysis will just focus on numerical columns and fully neglect the categorical features."
   ]
  },
  {
   "cell_type": "markdown",
   "metadata": {},
   "source": [
    "### **6.7.2. Correlated Numerical Columns**"
   ]
  },
  {
   "cell_type": "code",
   "execution_count": 29,
   "metadata": {},
   "outputs": [
    {
     "data": {
      "text/html": [
       "<div>\n",
       "<style scoped>\n",
       "    .dataframe tbody tr th:only-of-type {\n",
       "        vertical-align: middle;\n",
       "    }\n",
       "\n",
       "    .dataframe tbody tr th {\n",
       "        vertical-align: top;\n",
       "    }\n",
       "\n",
       "    .dataframe thead th {\n",
       "        text-align: right;\n",
       "    }\n",
       "</style>\n",
       "<table border=\"1\" class=\"dataframe\">\n",
       "  <thead>\n",
       "    <tr style=\"text-align: right;\">\n",
       "      <th></th>\n",
       "      <th>nama kolom</th>\n",
       "      <th>hasil</th>\n",
       "    </tr>\n",
       "  </thead>\n",
       "  <tbody>\n",
       "    <tr>\n",
       "      <th>0</th>\n",
       "      <td>koi_period</td>\n",
       "      <td>correlated</td>\n",
       "    </tr>\n",
       "    <tr>\n",
       "      <th>1</th>\n",
       "      <td>koi_period_err1</td>\n",
       "      <td>correlated</td>\n",
       "    </tr>\n",
       "    <tr>\n",
       "      <th>2</th>\n",
       "      <td>koi_period_err2</td>\n",
       "      <td>correlated</td>\n",
       "    </tr>\n",
       "    <tr>\n",
       "      <th>3</th>\n",
       "      <td>koi_time0bk</td>\n",
       "      <td>correlated</td>\n",
       "    </tr>\n",
       "    <tr>\n",
       "      <th>4</th>\n",
       "      <td>koi_time0bk_err1</td>\n",
       "      <td>correlated</td>\n",
       "    </tr>\n",
       "    <tr>\n",
       "      <th>5</th>\n",
       "      <td>koi_time0bk_err2</td>\n",
       "      <td>correlated</td>\n",
       "    </tr>\n",
       "    <tr>\n",
       "      <th>6</th>\n",
       "      <td>koi_impact</td>\n",
       "      <td>correlated</td>\n",
       "    </tr>\n",
       "    <tr>\n",
       "      <th>7</th>\n",
       "      <td>koi_impact_err1</td>\n",
       "      <td>not correlated</td>\n",
       "    </tr>\n",
       "    <tr>\n",
       "      <th>8</th>\n",
       "      <td>koi_impact_err2</td>\n",
       "      <td>correlated</td>\n",
       "    </tr>\n",
       "    <tr>\n",
       "      <th>9</th>\n",
       "      <td>koi_duration</td>\n",
       "      <td>correlated</td>\n",
       "    </tr>\n",
       "    <tr>\n",
       "      <th>10</th>\n",
       "      <td>koi_duration_err1</td>\n",
       "      <td>correlated</td>\n",
       "    </tr>\n",
       "    <tr>\n",
       "      <th>11</th>\n",
       "      <td>koi_duration_err2</td>\n",
       "      <td>correlated</td>\n",
       "    </tr>\n",
       "    <tr>\n",
       "      <th>12</th>\n",
       "      <td>koi_depth</td>\n",
       "      <td>correlated</td>\n",
       "    </tr>\n",
       "    <tr>\n",
       "      <th>13</th>\n",
       "      <td>koi_depth_err1</td>\n",
       "      <td>correlated</td>\n",
       "    </tr>\n",
       "    <tr>\n",
       "      <th>14</th>\n",
       "      <td>koi_depth_err2</td>\n",
       "      <td>correlated</td>\n",
       "    </tr>\n",
       "    <tr>\n",
       "      <th>15</th>\n",
       "      <td>koi_prad</td>\n",
       "      <td>correlated</td>\n",
       "    </tr>\n",
       "    <tr>\n",
       "      <th>16</th>\n",
       "      <td>koi_prad_err1</td>\n",
       "      <td>correlated</td>\n",
       "    </tr>\n",
       "    <tr>\n",
       "      <th>17</th>\n",
       "      <td>koi_prad_err2</td>\n",
       "      <td>correlated</td>\n",
       "    </tr>\n",
       "    <tr>\n",
       "      <th>18</th>\n",
       "      <td>koi_teq</td>\n",
       "      <td>correlated</td>\n",
       "    </tr>\n",
       "    <tr>\n",
       "      <th>19</th>\n",
       "      <td>koi_insol</td>\n",
       "      <td>correlated</td>\n",
       "    </tr>\n",
       "    <tr>\n",
       "      <th>20</th>\n",
       "      <td>koi_insol_err1</td>\n",
       "      <td>correlated</td>\n",
       "    </tr>\n",
       "    <tr>\n",
       "      <th>21</th>\n",
       "      <td>koi_insol_err2</td>\n",
       "      <td>correlated</td>\n",
       "    </tr>\n",
       "    <tr>\n",
       "      <th>22</th>\n",
       "      <td>koi_model_snr</td>\n",
       "      <td>correlated</td>\n",
       "    </tr>\n",
       "    <tr>\n",
       "      <th>23</th>\n",
       "      <td>koi_steff</td>\n",
       "      <td>correlated</td>\n",
       "    </tr>\n",
       "    <tr>\n",
       "      <th>24</th>\n",
       "      <td>koi_steff_err1</td>\n",
       "      <td>correlated</td>\n",
       "    </tr>\n",
       "    <tr>\n",
       "      <th>25</th>\n",
       "      <td>koi_steff_err2</td>\n",
       "      <td>correlated</td>\n",
       "    </tr>\n",
       "    <tr>\n",
       "      <th>26</th>\n",
       "      <td>koi_slogg</td>\n",
       "      <td>correlated</td>\n",
       "    </tr>\n",
       "    <tr>\n",
       "      <th>27</th>\n",
       "      <td>koi_slogg_err1</td>\n",
       "      <td>correlated</td>\n",
       "    </tr>\n",
       "    <tr>\n",
       "      <th>28</th>\n",
       "      <td>koi_slogg_err2</td>\n",
       "      <td>correlated</td>\n",
       "    </tr>\n",
       "    <tr>\n",
       "      <th>29</th>\n",
       "      <td>koi_srad</td>\n",
       "      <td>correlated</td>\n",
       "    </tr>\n",
       "    <tr>\n",
       "      <th>30</th>\n",
       "      <td>koi_srad_err1</td>\n",
       "      <td>correlated</td>\n",
       "    </tr>\n",
       "    <tr>\n",
       "      <th>31</th>\n",
       "      <td>koi_srad_err2</td>\n",
       "      <td>correlated</td>\n",
       "    </tr>\n",
       "    <tr>\n",
       "      <th>32</th>\n",
       "      <td>ra</td>\n",
       "      <td>correlated</td>\n",
       "    </tr>\n",
       "    <tr>\n",
       "      <th>33</th>\n",
       "      <td>dec</td>\n",
       "      <td>correlated</td>\n",
       "    </tr>\n",
       "    <tr>\n",
       "      <th>34</th>\n",
       "      <td>koi_kepmag</td>\n",
       "      <td>correlated</td>\n",
       "    </tr>\n",
       "  </tbody>\n",
       "</table>\n",
       "</div>"
      ],
      "text/plain": [
       "           nama kolom           hasil\n",
       "0          koi_period      correlated\n",
       "1     koi_period_err1      correlated\n",
       "2     koi_period_err2      correlated\n",
       "3         koi_time0bk      correlated\n",
       "4    koi_time0bk_err1      correlated\n",
       "5    koi_time0bk_err2      correlated\n",
       "6          koi_impact      correlated\n",
       "7     koi_impact_err1  not correlated\n",
       "8     koi_impact_err2      correlated\n",
       "9        koi_duration      correlated\n",
       "10  koi_duration_err1      correlated\n",
       "11  koi_duration_err2      correlated\n",
       "12          koi_depth      correlated\n",
       "13     koi_depth_err1      correlated\n",
       "14     koi_depth_err2      correlated\n",
       "15           koi_prad      correlated\n",
       "16      koi_prad_err1      correlated\n",
       "17      koi_prad_err2      correlated\n",
       "18            koi_teq      correlated\n",
       "19          koi_insol      correlated\n",
       "20     koi_insol_err1      correlated\n",
       "21     koi_insol_err2      correlated\n",
       "22      koi_model_snr      correlated\n",
       "23          koi_steff      correlated\n",
       "24     koi_steff_err1      correlated\n",
       "25     koi_steff_err2      correlated\n",
       "26          koi_slogg      correlated\n",
       "27     koi_slogg_err1      correlated\n",
       "28     koi_slogg_err2      correlated\n",
       "29           koi_srad      correlated\n",
       "30      koi_srad_err1      correlated\n",
       "31      koi_srad_err2      correlated\n",
       "32                 ra      correlated\n",
       "33                dec      correlated\n",
       "34         koi_kepmag      correlated"
      ]
     },
     "execution_count": 29,
     "metadata": {},
     "output_type": "execute_result"
    }
   ],
   "source": [
    "# Step 1: Feature selection Numerical columns\n",
    "p_values = []\n",
    "interpretasi = []\n",
    "cols = []\n",
    "\n",
    "for col in X_train_num.columns:\n",
    "  corr_coef, p_value = spearmanr(X_train_num[col], y_train) # Using spearman for skewed data\n",
    "\n",
    "  p_values.append(p_value)\n",
    "  cols.append(col)\n",
    "\n",
    "  if p_value < 0.05:\n",
    "    interpretasi.append('correlated')\n",
    "  else :\n",
    "    interpretasi.append('not correlated')\n",
    "\n",
    "correlated_num = pd.DataFrame({'nama kolom':cols,\n",
    "              'hasil': interpretasi})\n",
    "\n",
    "correlated_num      "
   ]
  },
  {
   "cell_type": "markdown",
   "metadata": {},
   "source": [
    "It is observed that the only column in numerical columns that is not related to Target is koi_impact_err_1. This column shows upper error margin from impact parameter (how close the planet's orbit passes to the center of the star during transit). Since it is not correlated, the following section will focus on removing this variable."
   ]
  },
  {
   "cell_type": "code",
   "execution_count": 30,
   "metadata": {},
   "outputs": [
    {
     "data": {
      "text/plain": [
       "34"
      ]
     },
     "execution_count": 30,
     "metadata": {},
     "output_type": "execute_result"
    }
   ],
   "source": [
    "# Step 2: Check count of correlated values\n",
    "count_correlated = (correlated_num ['hasil'] == 'correlated').sum()\n",
    "count_correlated"
   ]
  },
  {
   "cell_type": "code",
   "execution_count": 31,
   "metadata": {},
   "outputs": [],
   "source": [
    "# Step 3: Create a list of columns to drop\n",
    "columns_to_drop = ['koi_impact_err1']\n",
    "\n",
    "# Step 4: Drop columns from both X_train_cat and X_test_cat\n",
    "X_train_num = X_train_num.drop(columns=columns_to_drop, axis=1)\n",
    "X_test_num = X_test_num.drop(columns=columns_to_drop, axis=1)"
   ]
  },
  {
   "cell_type": "markdown",
   "metadata": {},
   "source": [
    "### **6.7.3. Concatenate**"
   ]
  },
  {
   "cell_type": "markdown",
   "metadata": {},
   "source": [
    "In the following cell, it is necessary to note once again that the analysis will only contain numerical values since all categorical features have no correlation to target. This section focuses on finalizing the Train and Test data."
   ]
  },
  {
   "cell_type": "code",
   "execution_count": 32,
   "metadata": {},
   "outputs": [],
   "source": [
    "# Step 1: Only use the numerical table since categorical is fully uncorrelated in Train data\n",
    "X_train_final = X_train_num.copy()\n",
    "\n",
    "# Step 2: Only use the numerical table since categorical is fully uncorrelated in Train data\n",
    "X_test_final = X_test_num.copy()"
   ]
  },
  {
   "cell_type": "code",
   "execution_count": 33,
   "metadata": {},
   "outputs": [
    {
     "data": {
      "text/plain": [
       "(7173, 34)"
      ]
     },
     "execution_count": 33,
     "metadata": {},
     "output_type": "execute_result"
    }
   ],
   "source": [
    "# Step 3: Retrieve dataframe Train after concatenation\n",
    "X_train_final.shape"
   ]
  },
  {
   "cell_type": "code",
   "execution_count": 34,
   "metadata": {},
   "outputs": [
    {
     "data": {
      "text/plain": [
       "(2391, 34)"
      ]
     },
     "execution_count": 34,
     "metadata": {},
     "output_type": "execute_result"
    }
   ],
   "source": [
    "# Step 4: Retrieve dataframe Test after concatenation\n",
    "X_test_final.shape"
   ]
  },
  {
   "cell_type": "code",
   "execution_count": 35,
   "metadata": {},
   "outputs": [],
   "source": [
    "# Step 5: Encode target\n",
    "label_encoder = LabelEncoder()\n",
    "y_train_final = label_encoder.fit_transform(y_train)\n",
    "y_test_final = label_encoder.transform(y_test)"
   ]
  },
  {
   "cell_type": "code",
   "execution_count": 36,
   "metadata": {},
   "outputs": [
    {
     "name": "stdout",
     "output_type": "stream",
     "text": [
      "['CANDIDATE' 'CONFIRMED' 'FALSE POSITIVE']\n"
     ]
    }
   ],
   "source": [
    "# Step 6: Check classes order\n",
    "print(label_encoder.classes_)"
   ]
  },
  {
   "cell_type": "markdown",
   "metadata": {},
   "source": [
    "It is observed that the order of classes in the Target (y) is going to be:\n",
    "\n",
    "- 0 = Candidate\n",
    "- 1 = Confirmed\n",
    "- 2 = False Positive\n",
    "\n",
    "This label encoder order will be useful in the evaluation metric in the following section."
   ]
  },
  {
   "cell_type": "markdown",
   "metadata": {},
   "source": [
    "# **Chapter 7: Model Definition**"
   ]
  },
  {
   "cell_type": "markdown",
   "metadata": {},
   "source": [
    "## **7.1. Column Transformer**"
   ]
  },
  {
   "cell_type": "code",
   "execution_count": 37,
   "metadata": {},
   "outputs": [],
   "source": [
    "# Step 1: Making column transformer for preprocessing\n",
    "transformer = ColumnTransformer([\n",
    "('scaler', RobustScaler(),\n",
    "selector(dtype_exclude='object'))\n",
    "])"
   ]
  },
  {
   "cell_type": "markdown",
   "metadata": {},
   "source": [
    "## **7.2. Pipeline**"
   ]
  },
  {
   "cell_type": "markdown",
   "metadata": {},
   "source": [
    "The pipeline will follow the following table algorithm options:"
   ]
  },
  {
   "cell_type": "markdown",
   "metadata": {},
   "source": [
    "| **Algorithm/Concept**      | **Description**                                                   |\n",
    "|-----------------------------|-------------------------------------------------------------------|\n",
    "| KNN                        | Mengimplementasikan algoritma KNN pada domain kasus yang dipilih |\n",
    "| SVM                        | Mengimplementasikan algoritma SVM pada domain kasus yang dipilih |\n",
    "| Decision Tree              | Mengimplementasikan algoritma Decision Tree pada domain kasus yang dipilih |\n",
    "| Random Forest              | Mengimplementasikan algoritma Random Forest pada domain kasus yang dipilih |\n",
    "| Boosting                   | Mengimplementasikan salah satu algoritma Boosting pada domain kasus yang dipilih |\n"
   ]
  },
  {
   "cell_type": "code",
   "execution_count": 38,
   "metadata": {},
   "outputs": [],
   "source": [
    "# Making pipeline for K-Nearest Neighbours\n",
    "pipe_knn = Pipeline([\n",
    "('transformer', transformer),\n",
    "('classifier', KNeighborsClassifier())\n",
    "])\n",
    "\n",
    "# Making pipeline for SVC\n",
    "pipe_svc = Pipeline([\n",
    "    ('transformer', transformer),\n",
    "    ('classifier', SVC(class_weight='balanced'))\n",
    "])\n",
    "\n",
    "# Making pipeline for Decision Tree\n",
    "pipe_dt = Pipeline([\n",
    "    ('transformer', transformer),\n",
    "    ('classifier', DecisionTreeClassifier(class_weight='balanced'))\n",
    "])\n",
    "\n",
    "# Making pipeline for Random Forest\n",
    "pipe_rf = Pipeline([\n",
    "    ('transformer', transformer),\n",
    "    ('classifier', RandomForestClassifier(class_weight='balanced'))\n",
    "])\n",
    "\n",
    "# Making pipeline for XGBoost\n",
    "pipe_xgb = Pipeline([\n",
    "('transformer', transformer),\n",
    "('classifier', XGBClassifier())\n",
    "])"
   ]
  },
  {
   "cell_type": "code",
   "execution_count": 39,
   "metadata": {},
   "outputs": [
    {
     "name": "stdout",
     "output_type": "stream",
     "text": [
      "<class 'numpy.ndarray'>\n"
     ]
    }
   ],
   "source": [
    "# Ensure that transformer is in numpy.ndarray\n",
    "X_transformed = transformer.fit_transform(X_train)\n",
    "print(type(X_transformed))  # Should be numpy.ndarray or scipy sparse matrix"
   ]
  },
  {
   "cell_type": "markdown",
   "metadata": {},
   "source": [
    "## **7.3. Base Model Training**"
   ]
  },
  {
   "cell_type": "markdown",
   "metadata": {},
   "source": [
    "### **K-Nearest Neighbours**"
   ]
  },
  {
   "cell_type": "code",
   "execution_count": 40,
   "metadata": {},
   "outputs": [
    {
     "name": "stdout",
     "output_type": "stream",
     "text": [
      "Training Score:  0.8013\n",
      "Testing Score:  0.7169\n"
     ]
    }
   ],
   "source": [
    "# Fit KNN into X and y train\n",
    "pipe_knn.fit(X_train_final, y_train_final)\n",
    "print('Training Score: ',round(pipe_knn.score(X_train_final, y_train_final),4))\n",
    "print('Testing Score: ', round(pipe_knn.score(X_test_final, y_test_final),4))"
   ]
  },
  {
   "cell_type": "code",
   "execution_count": 41,
   "metadata": {},
   "outputs": [
    {
     "data": {
      "text/plain": [
       "array([2, 2, 2, ..., 0, 1, 2])"
      ]
     },
     "execution_count": 41,
     "metadata": {},
     "output_type": "execute_result"
    }
   ],
   "source": [
    "# Predict within X test\n",
    "y_knn_pred = pipe_knn.predict(X_test_final)\n",
    "y_knn_pred"
   ]
  },
  {
   "cell_type": "code",
   "execution_count": 42,
   "metadata": {},
   "outputs": [
    {
     "name": "stdout",
     "output_type": "stream",
     "text": [
      "                precision    recall  f1-score   support\n",
      "\n",
      "     Candidate       0.47      0.44      0.46       567\n",
      "     Confirmed       0.69      0.79      0.74       574\n",
      "False Positive       0.84      0.81      0.82      1250\n",
      "\n",
      "      accuracy                           0.72      2391\n",
      "     macro avg       0.67      0.68      0.67      2391\n",
      "  weighted avg       0.72      0.72      0.72      2391\n",
      "\n"
     ]
    }
   ],
   "source": [
    "# Show evaluation metrics\n",
    "target = ['Candidate', 'Confirmed', 'False Positive']\n",
    "print(classification_report(y_test_final, y_knn_pred, target_names = target))"
   ]
  },
  {
   "cell_type": "code",
   "execution_count": 43,
   "metadata": {},
   "outputs": [
    {
     "name": "stdout",
     "output_type": "stream",
     "text": [
      "F1 Score - All - Cross Validation  :  [0.65309371 0.66486475 0.65234273]\n",
      "F1 Score - Mean - Cross Validation :  0.6567670650647289\n",
      "F1 Score - Std - Cross Validation  :  0.005734132806254983\n",
      "F1 Score - Range of Test-Set       :  0.6510329322584739 - 0.6625011978709839\n"
     ]
    }
   ],
   "source": [
    "# Cross-validation with macro F1 score\n",
    "f1_train_cross_val = cross_val_score(pipe_knn,\n",
    "                                     X_train_final,\n",
    "                                     y_train_final,\n",
    "                                     cv=3,\n",
    "                                     scoring=\"f1_macro\")  # Use f1_macro for multiclass\n",
    "\n",
    "# Print results\n",
    "print('F1 Score - All - Cross Validation  : ', f1_train_cross_val)\n",
    "print('F1 Score - Mean - Cross Validation : ', f1_train_cross_val.mean())  # Use .mean()\n",
    "print('F1 Score - Std - Cross Validation  : ', f1_train_cross_val.std())\n",
    "print('F1 Score - Range of Test-Set       : ',\n",
    "      f1_train_cross_val.mean() - f1_train_cross_val.std(), '-',\n",
    "      f1_train_cross_val.mean() + f1_train_cross_val.std())\n"
   ]
  },
  {
   "cell_type": "markdown",
   "metadata": {},
   "source": [
    "Unlike binary classification, which deals with two classes, multiclass classification handles multiple classes. Considering that the analysis focuses on Multiclass Classification in this case, throughout this analysis, the focus will fall on the macro average F1-score.\n",
    "\n",
    "Interpretation of KNN evaluation metric:\n",
    "\n",
    "- Precision (0.67): On average, 67% of the predictions across all classes are correct.\n",
    "- Recall (0.68): On average, the model correctly identifies 68% of the actual instances across all classes.\n",
    "- F1-Score (0.67): The harmonic mean of precision and recall across all classes is 67%"
   ]
  },
  {
   "cell_type": "markdown",
   "metadata": {},
   "source": [
    "### **Support Vector Classification Machine**"
   ]
  },
  {
   "cell_type": "code",
   "execution_count": 44,
   "metadata": {},
   "outputs": [
    {
     "name": "stdout",
     "output_type": "stream",
     "text": [
      "Training Score:  0.3887\n",
      "Testing Score:  0.3915\n"
     ]
    }
   ],
   "source": [
    "# Fit SVC into X and y train\n",
    "pipe_svc.fit(X_train_final, y_train_final)\n",
    "print('Training Score: ',round(pipe_svc.score(X_train_final, y_train_final),4))\n",
    "print('Testing Score: ', round(pipe_svc.score(X_test_final, y_test_final),4))"
   ]
  },
  {
   "cell_type": "code",
   "execution_count": 45,
   "metadata": {},
   "outputs": [
    {
     "data": {
      "text/plain": [
       "array([0, 2, 1, ..., 1, 1, 1])"
      ]
     },
     "execution_count": 45,
     "metadata": {},
     "output_type": "execute_result"
    }
   ],
   "source": [
    "# Predict within X test\n",
    "y_svc_pred = pipe_svc.predict(X_test_final)\n",
    "y_svc_pred"
   ]
  },
  {
   "cell_type": "code",
   "execution_count": 46,
   "metadata": {},
   "outputs": [
    {
     "name": "stdout",
     "output_type": "stream",
     "text": [
      "                precision    recall  f1-score   support\n",
      "\n",
      "     Candidate       0.25      0.07      0.11       567\n",
      "     Confirmed       0.30      1.00      0.47       574\n",
      "False Positive       0.94      0.26      0.41      1250\n",
      "\n",
      "      accuracy                           0.39      2391\n",
      "     macro avg       0.50      0.44      0.33      2391\n",
      "  weighted avg       0.62      0.39      0.35      2391\n",
      "\n"
     ]
    }
   ],
   "source": [
    "# Show evaluation metrics\n",
    "target = ['Candidate', 'Confirmed', 'False Positive']\n",
    "print(classification_report(y_test_final, y_svc_pred, target_names = target))"
   ]
  },
  {
   "cell_type": "code",
   "execution_count": 47,
   "metadata": {},
   "outputs": [
    {
     "name": "stdout",
     "output_type": "stream",
     "text": [
      "F1 Score - All - Cross Validation  :  [0.29002626 0.31831868 0.34239675]\n",
      "F1 Score - Mean - Cross Validation :  0.31691389618319427\n",
      "F1 Score - Std - Cross Validation  :  0.021403228727603134\n",
      "F1 Score - Range of Test-Set       :  0.2955106674555911 - 0.3383171249107974\n"
     ]
    }
   ],
   "source": [
    "# Cross-validation with macro F1 score\n",
    "f1_train_cross_val = cross_val_score(pipe_svc,\n",
    "                                     X_train_final,\n",
    "                                     y_train_final,\n",
    "                                     cv=3,\n",
    "                                     scoring=\"f1_macro\")  # Use f1_macro for multiclass\n",
    "\n",
    "# Print results\n",
    "print('F1 Score - All - Cross Validation  : ', f1_train_cross_val)\n",
    "print('F1 Score - Mean - Cross Validation : ', f1_train_cross_val.mean())  # Use .mean()\n",
    "print('F1 Score - Std - Cross Validation  : ', f1_train_cross_val.std())\n",
    "print('F1 Score - Range of Test-Set       : ',\n",
    "      f1_train_cross_val.mean() - f1_train_cross_val.std(), '-',\n",
    "      f1_train_cross_val.mean() + f1_train_cross_val.std())\n"
   ]
  },
  {
   "cell_type": "markdown",
   "metadata": {},
   "source": [
    "Interpretation of SVC evaluation metric:\n",
    "\n",
    "- Precision (0.50): On average, 50% of the predictions across all classes are correct.\n",
    "- Recall (0.44): On average, the model correctly identifies 44% of the actual instances across all classes.\n",
    "- F1-Score (0.33): The harmonic mean of precision and recall across all classes is 33%\n",
    "\n",
    "This result is way lower than KNN, so we can eliminate SVCM algorithm from the equation."
   ]
  },
  {
   "cell_type": "markdown",
   "metadata": {},
   "source": [
    "### **Decision Tree**"
   ]
  },
  {
   "cell_type": "code",
   "execution_count": 48,
   "metadata": {},
   "outputs": [
    {
     "name": "stdout",
     "output_type": "stream",
     "text": [
      "Training Score:  1.0\n",
      "Testing Score:  0.6959\n"
     ]
    }
   ],
   "source": [
    "# Fit DT into X and y train\n",
    "pipe_dt.fit(X_train_final, y_train_final)\n",
    "print('Training Score: ',round(pipe_dt.score(X_train_final, y_train_final),4))\n",
    "print('Testing Score: ', round(pipe_dt.score(X_test_final, y_test_final),4))"
   ]
  },
  {
   "cell_type": "code",
   "execution_count": 49,
   "metadata": {},
   "outputs": [
    {
     "data": {
      "text/plain": [
       "array([2, 2, 2, ..., 0, 1, 2])"
      ]
     },
     "execution_count": 49,
     "metadata": {},
     "output_type": "execute_result"
    }
   ],
   "source": [
    "# Predict within X test\n",
    "y_dt_pred = pipe_dt.predict(X_test_final)\n",
    "y_dt_pred"
   ]
  },
  {
   "cell_type": "code",
   "execution_count": 50,
   "metadata": {},
   "outputs": [
    {
     "name": "stdout",
     "output_type": "stream",
     "text": [
      "                precision    recall  f1-score   support\n",
      "\n",
      "     Candidate       0.46      0.47      0.47       567\n",
      "     Confirmed       0.70      0.72      0.71       574\n",
      "False Positive       0.81      0.79      0.80      1250\n",
      "\n",
      "      accuracy                           0.70      2391\n",
      "     macro avg       0.66      0.66      0.66      2391\n",
      "  weighted avg       0.70      0.70      0.70      2391\n",
      "\n"
     ]
    }
   ],
   "source": [
    "# Show evaluation metrics\n",
    "target = ['Candidate', 'Confirmed', 'False Positive']\n",
    "print(classification_report(y_test_final, y_dt_pred, target_names = target))"
   ]
  },
  {
   "cell_type": "code",
   "execution_count": 51,
   "metadata": {},
   "outputs": [
    {
     "name": "stdout",
     "output_type": "stream",
     "text": [
      "F1 Score - All - Cross Validation  :  [0.65147106 0.63048395 0.62208868]\n",
      "F1 Score - Mean - Cross Validation :  0.6346812315372846\n",
      "F1 Score - Std - Cross Validation  :  0.012357018991078798\n",
      "F1 Score - Range of Test-Set       :  0.6223242125462058 - 0.6470382505283634\n"
     ]
    }
   ],
   "source": [
    "# Cross-validation with macro F1 score\n",
    "f1_train_cross_val = cross_val_score(pipe_dt,\n",
    "                                     X_train_final,\n",
    "                                     y_train_final,\n",
    "                                     cv=3,\n",
    "                                     scoring=\"f1_macro\")  # Use f1_macro for multiclass\n",
    "\n",
    "# Print results\n",
    "print('F1 Score - All - Cross Validation  : ', f1_train_cross_val)\n",
    "print('F1 Score - Mean - Cross Validation : ', f1_train_cross_val.mean())  # Use .mean()\n",
    "print('F1 Score - Std - Cross Validation  : ', f1_train_cross_val.std())\n",
    "print('F1 Score - Range of Test-Set       : ',\n",
    "      f1_train_cross_val.mean() - f1_train_cross_val.std(), '-',\n",
    "      f1_train_cross_val.mean() + f1_train_cross_val.std())\n"
   ]
  },
  {
   "cell_type": "markdown",
   "metadata": {},
   "source": [
    "Interpretation of Decision Tree evaluation metric:\n",
    "\n",
    "- Precision (0.64): On average, 64% of the predictions across all classes are correct.\n",
    "- Recall (0.65): On average, the model correctly identifies 65% of the actual instances across all classes.\n",
    "- F1-Score (0.65): The harmonic mean of precision and recall across all classes is 65%\n",
    "\n",
    "This result is better than both KNN and SVC, so we can eliminate SVC and KNN algorithms from the equation."
   ]
  },
  {
   "cell_type": "markdown",
   "metadata": {},
   "source": [
    "### **Random Forest Classifier**"
   ]
  },
  {
   "cell_type": "code",
   "execution_count": 52,
   "metadata": {},
   "outputs": [
    {
     "name": "stdout",
     "output_type": "stream",
     "text": [
      "Training Score:  1.0\n",
      "Testing Score:  0.7808\n"
     ]
    }
   ],
   "source": [
    "# Fit DT into X and y train\n",
    "pipe_rf.fit(X_train_final, y_train_final)\n",
    "print('Training Score: ',round(pipe_rf.score(X_train_final, y_train_final),4))\n",
    "print('Testing Score: ', round(pipe_rf.score(X_test_final, y_test_final),4))"
   ]
  },
  {
   "cell_type": "code",
   "execution_count": 53,
   "metadata": {},
   "outputs": [
    {
     "data": {
      "text/plain": [
       "array([2, 2, 2, ..., 1, 1, 2])"
      ]
     },
     "execution_count": 53,
     "metadata": {},
     "output_type": "execute_result"
    }
   ],
   "source": [
    "# Predict within X test\n",
    "y_rf_pred = pipe_rf.predict(X_test_final)\n",
    "y_rf_pred"
   ]
  },
  {
   "cell_type": "code",
   "execution_count": 54,
   "metadata": {},
   "outputs": [
    {
     "name": "stdout",
     "output_type": "stream",
     "text": [
      "                precision    recall  f1-score   support\n",
      "\n",
      "     Candidate       0.61      0.46      0.53       567\n",
      "     Confirmed       0.79      0.83      0.81       574\n",
      "False Positive       0.83      0.90      0.87      1250\n",
      "\n",
      "      accuracy                           0.78      2391\n",
      "     macro avg       0.74      0.73      0.73      2391\n",
      "  weighted avg       0.77      0.78      0.77      2391\n",
      "\n"
     ]
    }
   ],
   "source": [
    "# Show evaluation metrics\n",
    "target = ['Candidate', 'Confirmed', 'False Positive']\n",
    "print(classification_report(y_test_final, y_rf_pred, target_names = target))"
   ]
  },
  {
   "cell_type": "code",
   "execution_count": 55,
   "metadata": {},
   "outputs": [
    {
     "name": "stdout",
     "output_type": "stream",
     "text": [
      "F1 Score - All - Cross Validation  :  [0.72302582 0.71693919 0.70726062]\n",
      "F1 Score - Mean - Cross Validation :  0.7157418756814793\n",
      "F1 Score - Std - Cross Validation  :  0.006491558902375845\n",
      "F1 Score - Range of Test-Set       :  0.7092503167791034 - 0.7222334345838551\n"
     ]
    }
   ],
   "source": [
    "# Cross-validation with macro F1 score\n",
    "f1_train_cross_val = cross_val_score(pipe_rf,\n",
    "                                     X_train_final,\n",
    "                                     y_train_final,\n",
    "                                     cv=3,\n",
    "                                     scoring=\"f1_macro\")  # Use f1_macro for multiclass\n",
    "\n",
    "# Print results\n",
    "print('F1 Score - All - Cross Validation  : ', f1_train_cross_val)\n",
    "print('F1 Score - Mean - Cross Validation : ', f1_train_cross_val.mean())  # Use .mean()\n",
    "print('F1 Score - Std - Cross Validation  : ', f1_train_cross_val.std())\n",
    "print('F1 Score - Range of Test-Set       : ',\n",
    "      f1_train_cross_val.mean() - f1_train_cross_val.std(), '-',\n",
    "      f1_train_cross_val.mean() + f1_train_cross_val.std())\n"
   ]
  },
  {
   "cell_type": "markdown",
   "metadata": {},
   "source": [
    "Interpretation of Random Forest evaluation metric:\n",
    "\n",
    "- Precision (0.75): On average, 75% of the predictions across all classes are correct.\n",
    "- Recall (0.73): On average, the model correctly identifies 73% of the actual instances across all classes.\n",
    "- F1-Score (0.74): The harmonic mean of precision and recall across all classes is 74%\n",
    "\n",
    "This result is better than KNN, SVC, and DT, so we can eliminate all three algorithms from the equation *and focus on Random Forest*."
   ]
  },
  {
   "cell_type": "markdown",
   "metadata": {},
   "source": [
    "### **XGBoost Classifier**"
   ]
  },
  {
   "cell_type": "code",
   "execution_count": 56,
   "metadata": {},
   "outputs": [
    {
     "name": "stdout",
     "output_type": "stream",
     "text": [
      "Training Score:  1.0\n",
      "Testing Score:  0.7808\n"
     ]
    }
   ],
   "source": [
    "# Fit DT into X and y train\n",
    "pipe_xgb.fit(X_train_final, y_train_final)\n",
    "print('Training Score: ',round(pipe_rf.score(X_train_final, y_train_final),4))\n",
    "print('Testing Score: ', round(pipe_rf.score(X_test_final, y_test_final),4))"
   ]
  },
  {
   "cell_type": "code",
   "execution_count": null,
   "metadata": {},
   "outputs": [
    {
     "data": {
      "text/plain": [
       "array([2, 2, 2, ..., 0, 1, 2], dtype=int64)"
      ]
     },
     "execution_count": 57,
     "metadata": {},
     "output_type": "execute_result"
    }
   ],
   "source": [
    "# Predict within X test\n",
    "y_xgb_pred = pipe_xgb.predict(X_test)\n",
    "y_xgb_pred"
   ]
  },
  {
   "cell_type": "code",
   "execution_count": 58,
   "metadata": {},
   "outputs": [
    {
     "name": "stdout",
     "output_type": "stream",
     "text": [
      "                precision    recall  f1-score   support\n",
      "\n",
      "     Candidate       0.58      0.47      0.52       567\n",
      "     Confirmed       0.79      0.85      0.82       574\n",
      "False Positive       0.84      0.88      0.86      1250\n",
      "\n",
      "      accuracy                           0.78      2391\n",
      "     macro avg       0.74      0.73      0.73      2391\n",
      "  weighted avg       0.77      0.78      0.77      2391\n",
      "\n"
     ]
    }
   ],
   "source": [
    "# Show evaluation metrics\n",
    "target = ['Candidate', 'Confirmed', 'False Positive']\n",
    "print(classification_report(y_test_final, y_xgb_pred, target_names = target))"
   ]
  },
  {
   "cell_type": "code",
   "execution_count": 59,
   "metadata": {},
   "outputs": [
    {
     "name": "stdout",
     "output_type": "stream",
     "text": [
      "F1 Score - All - Cross Validation  :  [0.72455295 0.73014603 0.71798071]\n",
      "F1 Score - Mean - Cross Validation :  0.7242265611428343\n",
      "F1 Score - Std - Cross Validation  :  0.0049718289212185495\n",
      "F1 Score - Range of Test-Set       :  0.7192547322216158 - 0.7291983900640528\n"
     ]
    }
   ],
   "source": [
    "# Cross Validation\n",
    "\n",
    "f1_train_cross_val = cross_val_score(pipe_xgb,\n",
    "                                     X_train_final,\n",
    "                                     y_train_final,\n",
    "                                     cv=3,\n",
    "                                     scoring=\"f1_macro\")\n",
    "\n",
    "print('F1 Score - All - Cross Validation  : ', f1_train_cross_val)\n",
    "print('F1 Score - Mean - Cross Validation : ', f1_train_cross_val.mean())\n",
    "print('F1 Score - Std - Cross Validation  : ', f1_train_cross_val.std())\n",
    "print('F1 Score - Range of Test-Set       : ', (f1_train_cross_val.mean()-f1_train_cross_val.std()) , '-', (f1_train_cross_val.mean()+f1_train_cross_val.std()))"
   ]
  },
  {
   "cell_type": "markdown",
   "metadata": {},
   "source": [
    "Interpretation of XGBoost evaluation metric:\n",
    "\n",
    "- Precision (0.74): On average, 74% of the predictions across all classes are correct.\n",
    "- Recall (0.73): On average, the model correctly identifies 73% of the actual instances across all classes.\n",
    "- F1-Score (0.73): The harmonic mean of precision and recall across all classes is 73%.\n",
    "\n",
    "This result, although almost similar, is slightly lower than that of Random Forest."
   ]
  },
  {
   "cell_type": "markdown",
   "metadata": {},
   "source": [
    "**Conclusion:**\n",
    "\n",
    "After comparing all of the models performance, it is concluded that **the best model based on Evaluation Metric is Random Forest.**"
   ]
  },
  {
   "cell_type": "markdown",
   "metadata": {},
   "source": [
    "# **Chapter 8: Model Evaluation**"
   ]
  },
  {
   "cell_type": "markdown",
   "metadata": {},
   "source": [
    "## **8.1. Model Comparison**"
   ]
  },
  {
   "cell_type": "code",
   "execution_count": 60,
   "metadata": {},
   "outputs": [],
   "source": [
    "# Table creation for algorithm comparison\n",
    "models = {\n",
    "    'K-Nearest Neighbor' : pipe_knn,\n",
    "    'Support Vector Classification Machine': pipe_svc,\n",
    "    'Decision Tree' : pipe_dt,\n",
    "    'Random Forest' : pipe_rf,\n",
    "    'XGBoost' : pipe_xgb\n",
    "}\n",
    "\n",
    "metrics = {\n",
    "    'Accuracy' : accuracy_score,\n",
    "    'F1-Score' : f1_score,\n",
    "}\n",
    "\n",
    "df_model = pd.DataFrame(columns = models.keys(), index=['Accuracy', 'F1-Score'])\n",
    "\n",
    "for metric in metrics.keys():\n",
    "    for model in models.keys():\n",
    "        if metric == 'F1-Score':\n",
    "            df_model.loc[metric, model] = metrics[metric](y_test_final, models[model].predict(X_test_final), average='macro')\n",
    "        else:\n",
    "            df_model.loc[metric, model] = metrics[metric](y_test_final, models[model].predict(X_test_final))"
   ]
  },
  {
   "cell_type": "code",
   "execution_count": null,
   "metadata": {},
   "outputs": [
    {
     "data": {
      "text/html": [
       "<div>\n",
       "<style scoped>\n",
       "    .dataframe tbody tr th:only-of-type {\n",
       "        vertical-align: middle;\n",
       "    }\n",
       "\n",
       "    .dataframe tbody tr th {\n",
       "        vertical-align: top;\n",
       "    }\n",
       "\n",
       "    .dataframe thead th {\n",
       "        text-align: right;\n",
       "    }\n",
       "</style>\n",
       "<table border=\"1\" class=\"dataframe\">\n",
       "  <thead>\n",
       "    <tr style=\"text-align: right;\">\n",
       "      <th></th>\n",
       "      <th>K-Nearest Neighbor</th>\n",
       "      <th>Support Vector Classification Machine</th>\n",
       "      <th>Decision Tree</th>\n",
       "      <th>Random Forest</th>\n",
       "      <th>XGBoost</th>\n",
       "    </tr>\n",
       "  </thead>\n",
       "  <tbody>\n",
       "    <tr>\n",
       "      <th>Accuracy</th>\n",
       "      <td>0.716855</td>\n",
       "      <td>0.391468</td>\n",
       "      <td>0.695943</td>\n",
       "      <td>0.780845</td>\n",
       "      <td>0.776244</td>\n",
       "    </tr>\n",
       "    <tr>\n",
       "      <th>F1-Score</th>\n",
       "      <td>0.672678</td>\n",
       "      <td>0.327052</td>\n",
       "      <td>0.657479</td>\n",
       "      <td>0.732771</td>\n",
       "      <td>0.732211</td>\n",
       "    </tr>\n",
       "  </tbody>\n",
       "</table>\n",
       "</div>"
      ],
      "text/plain": [
       "         K-Nearest Neighbor Support Vector Classification Machine  \\\n",
       "Accuracy           0.716855                              0.391468   \n",
       "F1-Score           0.672678                              0.327052   \n",
       "\n",
       "         Decision Tree Random Forest   XGBoost  \n",
       "Accuracy      0.695943      0.780845  0.776244  \n",
       "F1-Score      0.657479      0.732771  0.732211  "
      ]
     },
     "execution_count": 61,
     "metadata": {},
     "output_type": "execute_result"
    }
   ],
   "source": [
    "# Call df_model\n",
    "df_model"
   ]
  },
  {
   "cell_type": "code",
   "execution_count": 62,
   "metadata": {},
   "outputs": [],
   "source": [
    "# Define the custom F1 scorer with average='macro' (or 'micro', 'weighted' depending on your preference)\n",
    "f1_scorer = make_scorer(f1_score, average='macro')\n",
    "\n",
    "models = {\n",
    "    'K-Nearest Neighbor' : pipe_knn,\n",
    "    'Support Vector Classification Machine': pipe_svc,\n",
    "    'Decision Tree' : pipe_dt,\n",
    "    'Random Forest' : pipe_rf,\n",
    "    'XGBoost' : pipe_xgb\n",
    "}\n",
    "\n",
    "df_cross_val = pd.DataFrame(columns=models.keys(), index=['Mean', 'Std'])\n",
    "\n",
    "# Loop over each model and calculate cross-validation scores\n",
    "for model_name, model_pipe in models.items():\n",
    "    # Calculate mean and std of cross-validation scores\n",
    "    f1_scores = cross_val_score(model_pipe, X_train_final, y_train_final, cv=3, scoring=f1_scorer)\n",
    "    df_cross_val.loc['Mean', model_name] = f1_scores.mean()\n",
    "    df_cross_val.loc['Std', model_name] = f1_scores.std()\n"
   ]
  },
  {
   "cell_type": "code",
   "execution_count": 63,
   "metadata": {},
   "outputs": [
    {
     "data": {
      "text/html": [
       "<div>\n",
       "<style scoped>\n",
       "    .dataframe tbody tr th:only-of-type {\n",
       "        vertical-align: middle;\n",
       "    }\n",
       "\n",
       "    .dataframe tbody tr th {\n",
       "        vertical-align: top;\n",
       "    }\n",
       "\n",
       "    .dataframe thead th {\n",
       "        text-align: right;\n",
       "    }\n",
       "</style>\n",
       "<table border=\"1\" class=\"dataframe\">\n",
       "  <thead>\n",
       "    <tr style=\"text-align: right;\">\n",
       "      <th></th>\n",
       "      <th>K-Nearest Neighbor</th>\n",
       "      <th>Support Vector Classification Machine</th>\n",
       "      <th>Decision Tree</th>\n",
       "      <th>Random Forest</th>\n",
       "      <th>XGBoost</th>\n",
       "    </tr>\n",
       "  </thead>\n",
       "  <tbody>\n",
       "    <tr>\n",
       "      <th>Mean</th>\n",
       "      <td>0.656767</td>\n",
       "      <td>0.316914</td>\n",
       "      <td>0.632291</td>\n",
       "      <td>0.71844</td>\n",
       "      <td>0.724227</td>\n",
       "    </tr>\n",
       "    <tr>\n",
       "      <th>Std</th>\n",
       "      <td>0.005734</td>\n",
       "      <td>0.021403</td>\n",
       "      <td>0.013717</td>\n",
       "      <td>0.004007</td>\n",
       "      <td>0.004972</td>\n",
       "    </tr>\n",
       "  </tbody>\n",
       "</table>\n",
       "</div>"
      ],
      "text/plain": [
       "     K-Nearest Neighbor Support Vector Classification Machine Decision Tree  \\\n",
       "Mean           0.656767                              0.316914      0.632291   \n",
       "Std            0.005734                              0.021403      0.013717   \n",
       "\n",
       "     Random Forest   XGBoost  \n",
       "Mean       0.71844  0.724227  \n",
       "Std       0.004007  0.004972  "
      ]
     },
     "execution_count": 63,
     "metadata": {},
     "output_type": "execute_result"
    }
   ],
   "source": [
    "# Call cross validation variable\n",
    "df_cross_val"
   ]
  },
  {
   "cell_type": "markdown",
   "metadata": {},
   "source": [
    "Based on the table comparison above, it is also concluded that the best model is still Random Forest. It may seem like the valuation is almost similar than that is of XGBoost, but upon closer inspection, it is observed that Random Forest performs slightly better."
   ]
  },
  {
   "cell_type": "markdown",
   "metadata": {},
   "source": [
    "## **8.2. Model Optimization**"
   ]
  },
  {
   "cell_type": "code",
   "execution_count": 64,
   "metadata": {},
   "outputs": [],
   "source": [
    "# Define the parameter grid for Random Forest\n",
    "param_rf = {\n",
    "    'transformer__scaler' : [RobustScaler()],\n",
    "    'classifier__n_estimators' : [1,10,100],\n",
    "    'classifier__max_depth' : np.arange(4,8,2)\n",
    "}"
   ]
  },
  {
   "cell_type": "markdown",
   "metadata": {},
   "source": [
    "## **8.3. Model Optimization Evaluation**"
   ]
  },
  {
   "cell_type": "markdown",
   "metadata": {},
   "source": [
    "In the previous section, it is determined that the model has reached its best estimator. Therefore, in this section, this project will utilize GridSearch. GridSearch works by defining a grid of hyperparameters and then systematically training and evaluating a machine learning model for each hyperparameter combination.\n",
    "\n",
    "It has been known by its longer computation than that of RandomSearch. However, GridSearch is the best method if the dataset is not very large."
   ]
  },
  {
   "cell_type": "code",
   "execution_count": 65,
   "metadata": {},
   "outputs": [],
   "source": [
    "# Define Grid RF\n",
    "grid_rf = GridSearchCV(pipe_rf, param_grid=param_rf, cv=3).fit(X_train_final, y_train_final)"
   ]
  },
  {
   "cell_type": "code",
   "execution_count": 66,
   "metadata": {},
   "outputs": [
    {
     "name": "stdout",
     "output_type": "stream",
     "text": [
      "Train Set Score :  0.753938380036247\n",
      "Test Set Score :  0.7285654537850272\n"
     ]
    }
   ],
   "source": [
    "# Print Train and Test using Grid score\n",
    "print('Train Set Score : ', grid_rf.score(X_train_final, y_train_final))\n",
    "print('Test Set Score : ', grid_rf.score(X_test_final, y_test_final))"
   ]
  },
  {
   "cell_type": "code",
   "execution_count": 67,
   "metadata": {},
   "outputs": [
    {
     "name": "stdout",
     "output_type": "stream",
     "text": [
      "{'classifier__max_depth': 6, 'classifier__n_estimators': 100, 'transformer__scaler': RobustScaler()}\n",
      "\n",
      "\n",
      "Pipeline(steps=[('transformer',\n",
      "                 ColumnTransformer(transformers=[('scaler', RobustScaler(),\n",
      "                                                  <sklearn.compose._column_transformer.make_column_selector object at 0x0000012517E60880>)])),\n",
      "                ('classifier',\n",
      "                 RandomForestClassifier(class_weight='balanced', max_depth=6))])\n",
      "\n",
      "\n",
      "Index(['mean_fit_time', 'std_fit_time', 'mean_score_time', 'std_score_time',\n",
      "       'param_classifier__max_depth', 'param_classifier__n_estimators',\n",
      "       'param_transformer__scaler', 'params', 'split0_test_score',\n",
      "       'split1_test_score', 'split2_test_score', 'mean_test_score',\n",
      "       'std_test_score', 'rank_test_score'],\n",
      "      dtype='object')\n"
     ]
    }
   ],
   "source": [
    "best_param_rf = grid_rf.best_params_\n",
    "print(best_param_rf)\n",
    "print('\\n')\n",
    "best_pipe_rf = grid_rf.best_estimator_\n",
    "print(best_pipe_rf)\n",
    "print('\\n')\n",
    "result_df_rf = pd.DataFrame.from_dict(grid_rf.cv_results_, orient='columns')\n",
    "print(result_df_rf.columns)"
   ]
  },
  {
   "cell_type": "code",
   "execution_count": 68,
   "metadata": {},
   "outputs": [
    {
     "name": "stdout",
     "output_type": "stream",
     "text": [
      "              precision    recall  f1-score   support\n",
      "\n",
      "           0       0.51      0.58      0.54       567\n",
      "           1       0.70      0.83      0.76       574\n",
      "           2       0.88      0.75      0.81      1250\n",
      "\n",
      "    accuracy                           0.73      2391\n",
      "   macro avg       0.70      0.72      0.70      2391\n",
      "weighted avg       0.75      0.73      0.73      2391\n",
      "\n"
     ]
    }
   ],
   "source": [
    "# Print evaluation metric\n",
    "print(classification_report(y_test_final, best_pipe_rf.predict(X_test_final)))"
   ]
  },
  {
   "cell_type": "markdown",
   "metadata": {},
   "source": [
    "The above classification report after a grid search shows how well the best model (in this case, Random Forest) performs on the test data. Above, it is observed that the average score (0.69) after grid is not any better before.\n",
    "\n",
    "As we recall, before implementing GridSearch, the F1-Score on macro average reaches 0.73 point.\n",
    "\n",
    "Therefore, it is concluded that the model works better before GridSearching."
   ]
  },
  {
   "cell_type": "markdown",
   "metadata": {},
   "source": [
    "## **8.4. Model After Tuning Comparison**"
   ]
  },
  {
   "cell_type": "code",
   "execution_count": 69,
   "metadata": {},
   "outputs": [],
   "source": [
    "models = {\n",
    "    'Random Forest' : best_pipe_rf\n",
    "}\n",
    "\n",
    "metrics = {\n",
    "    'Accuracy' : accuracy_score,\n",
    "    'F1-Score' : f1_score,\n",
    "}\n",
    "\n",
    "model_tuning = pd.DataFrame(columns = models.keys(), index=['Accuracy', 'F1-Score'])\n",
    "\n",
    "for metric in metrics.keys():\n",
    "    for model in models.keys():\n",
    "        if metric == 'F1-Score':\n",
    "            model_tuning.loc[metric, model] = metrics[metric](y_test_final, models[model].predict(X_test_final), average='macro')\n",
    "        else:\n",
    "            model_tuning.loc[metric, model] = metrics[metric](y_test_final, models[model].predict(X_test_final))"
   ]
  },
  {
   "cell_type": "code",
   "execution_count": 70,
   "metadata": {},
   "outputs": [
    {
     "data": {
      "text/html": [
       "<div>\n",
       "<style scoped>\n",
       "    .dataframe tbody tr th:only-of-type {\n",
       "        vertical-align: middle;\n",
       "    }\n",
       "\n",
       "    .dataframe tbody tr th {\n",
       "        vertical-align: top;\n",
       "    }\n",
       "\n",
       "    .dataframe thead th {\n",
       "        text-align: right;\n",
       "    }\n",
       "</style>\n",
       "<table border=\"1\" class=\"dataframe\">\n",
       "  <thead>\n",
       "    <tr style=\"text-align: right;\">\n",
       "      <th></th>\n",
       "      <th>K-Nearest Neighbor</th>\n",
       "      <th>Support Vector Classification Machine</th>\n",
       "      <th>Decision Tree</th>\n",
       "      <th>Random Forest</th>\n",
       "      <th>XGBoost</th>\n",
       "    </tr>\n",
       "  </thead>\n",
       "  <tbody>\n",
       "    <tr>\n",
       "      <th>Accuracy</th>\n",
       "      <td>0.716855</td>\n",
       "      <td>0.391468</td>\n",
       "      <td>0.695943</td>\n",
       "      <td>0.780845</td>\n",
       "      <td>0.776244</td>\n",
       "    </tr>\n",
       "    <tr>\n",
       "      <th>F1-Score</th>\n",
       "      <td>0.672678</td>\n",
       "      <td>0.327052</td>\n",
       "      <td>0.657479</td>\n",
       "      <td>0.732771</td>\n",
       "      <td>0.732211</td>\n",
       "    </tr>\n",
       "  </tbody>\n",
       "</table>\n",
       "</div>"
      ],
      "text/plain": [
       "         K-Nearest Neighbor Support Vector Classification Machine  \\\n",
       "Accuracy           0.716855                              0.391468   \n",
       "F1-Score           0.672678                              0.327052   \n",
       "\n",
       "         Decision Tree Random Forest   XGBoost  \n",
       "Accuracy      0.695943      0.780845  0.776244  \n",
       "F1-Score      0.657479      0.732771  0.732211  "
      ]
     },
     "execution_count": 70,
     "metadata": {},
     "output_type": "execute_result"
    }
   ],
   "source": [
    "df_model"
   ]
  },
  {
   "cell_type": "code",
   "execution_count": 71,
   "metadata": {},
   "outputs": [
    {
     "data": {
      "text/html": [
       "<div>\n",
       "<style scoped>\n",
       "    .dataframe tbody tr th:only-of-type {\n",
       "        vertical-align: middle;\n",
       "    }\n",
       "\n",
       "    .dataframe tbody tr th {\n",
       "        vertical-align: top;\n",
       "    }\n",
       "\n",
       "    .dataframe thead th {\n",
       "        text-align: right;\n",
       "    }\n",
       "</style>\n",
       "<table border=\"1\" class=\"dataframe\">\n",
       "  <thead>\n",
       "    <tr style=\"text-align: right;\">\n",
       "      <th></th>\n",
       "      <th>Random Forest</th>\n",
       "    </tr>\n",
       "  </thead>\n",
       "  <tbody>\n",
       "    <tr>\n",
       "      <th>Accuracy</th>\n",
       "      <td>0.728565</td>\n",
       "    </tr>\n",
       "    <tr>\n",
       "      <th>F1-Score</th>\n",
       "      <td>0.703036</td>\n",
       "    </tr>\n",
       "  </tbody>\n",
       "</table>\n",
       "</div>"
      ],
      "text/plain": [
       "         Random Forest\n",
       "Accuracy      0.728565\n",
       "F1-Score      0.703036"
      ]
     },
     "execution_count": 71,
     "metadata": {},
     "output_type": "execute_result"
    }
   ],
   "source": [
    "model_tuning    "
   ]
  },
  {
   "cell_type": "markdown",
   "metadata": {},
   "source": [
    "As mentioned before, the model Random Forest performs better before tuning. It is indicated by the F1-Score that is better before tuning."
   ]
  },
  {
   "cell_type": "markdown",
   "metadata": {},
   "source": [
    "# **Chapter 9: Model Saving**"
   ]
  },
  {
   "cell_type": "code",
   "execution_count": 72,
   "metadata": {},
   "outputs": [],
   "source": [
    "# Save the model\n",
    "pickle.dump(pipe_rf, open('model_rf.pkl', 'wb'))"
   ]
  },
  {
   "cell_type": "markdown",
   "metadata": {},
   "source": [
    "# **Chapter 10: Model Inference**"
   ]
  },
  {
   "cell_type": "markdown",
   "metadata": {},
   "source": [
    "*Model Inference is placed in the next notebook ('P1M2_nana_inf')*."
   ]
  },
  {
   "cell_type": "markdown",
   "metadata": {},
   "source": [
    "# **Chapter 11: Conclusion**"
   ]
  },
  {
   "cell_type": "markdown",
   "metadata": {},
   "source": [
    "The goal of  this project was to predict whether a KOI (Kepler's Object of Interest) is an exoplanet, a candidate of exoplanet, or a false positive using classification machine learning models.\n",
    "\n",
    "After the EDA process, **it is observed that half of KOIs detected by Kepler are determined to be False Positive**, or what detected as exoplanets but are not factually correct.Meanwhile, **24,0% of KOIs are confirmed to be exoplanets**. These are the celestial object confirmed to be potentially habitable (only potentially) and scientists can focus on. **The remaining 23,5% of candidate exoplanets need to be examined and analyzed further to determine its disposition**.\n",
    "\n",
    "When evaluating several machine learning models, we include K-Nearest Neighbors, Support Vector Machine, Decision Trees, Random Forest, and XGBoost. **The Random Forest model demonstrated the best performance with an accuracy of 7% and an F1-score of 72%**. This suggests that Random Forest is highly effective for this classification task, *if compared with other models*.\n",
    "\n",
    "The hyperparameter tuning technique then applied to Random Forest model. **The result suggests that the machine performs better before tuning the hyperparameter.**\n",
    "\n",
    "**It is also important to note that the dataset was slightly imbalanced**, which could affect the model's ability to predict minority classes accurately. Save for tree-based model (Decision Tree, Random Forest, XGBoost), the class.weight parameter is applied. It was done to ensure that the model gives more attention to minority classes, resulting in better predictions for those classes.\n",
    "\n",
    "Future work could include more exploration on other features, for instance, how they significantly impact exoplanets determination. Furthermore, it could refine predictions by using other models.\n"
   ]
  },
  {
   "cell_type": "markdown",
   "metadata": {},
   "source": [
    "# **Chapter 12: Conceptual Problems**"
   ]
  },
  {
   "cell_type": "markdown",
   "metadata": {},
   "source": [
    "## **12.1. Bagging**"
   ]
  },
  {
   "cell_type": "markdown",
   "metadata": {},
   "source": [
    "Bagging is an ensemble method that involves training multiple models independently on random subsets of the data, and aggregating their predictions through voting or averaging. The goal is to yield better results after comparison.\n",
    "\n",
    "Bagging works by training models independently in parallel on different random subsets of the data. It trains each subset of data parallelly. Then, through voting or averaging, it gives the best result out of the models tested."
   ]
  },
  {
   "cell_type": "markdown",
   "metadata": {},
   "source": [
    "## **12.2. Random Forest vs XGBoost**"
   ]
  },
  {
   "cell_type": "markdown",
   "metadata": {},
   "source": [
    "Random Forest works by combining multiple Decision Trees trained on different random subsets of data. All trees are trained independently or in parallel. The it finds the best results using majority voting (classification) or averaging (regression). Random Forest is using Bagging method in its perfromance.\n",
    "\n",
    "Meanwhile, XGBoost Builds trees sequentially, where each tree corrects the errors of the previous one. Trees are trained one at a time (sequentially) and the best result is yielded through each process of *correction* for each model's performance.\n"
   ]
  },
  {
   "cell_type": "markdown",
   "metadata": {},
   "source": [
    "## **12.3. Cross Validation**"
   ]
  },
  {
   "cell_type": "markdown",
   "metadata": {},
   "source": [
    "Cross-validation is a technique that tests model from multiple angles to ensure it's not just lucky with one specific split of data.Cross-validation works by:\n",
    "\n",
    "1. **Splitting the data**: Instead of using one chunk of data for training and another for testing, cross-validation splits the data into several smaller parts, called \"folds.\"\n",
    "\n",
    "2. **Train and test repeatedly**:\n",
    "    - Use one data fold as the test set and the rest as the training set.\n",
    "    - Train the model on the training set and test it on the test fold.\n",
    "    - Repeat this process, rotating through all the folds so that each fold gets a chance to be the test set.\n",
    "\n",
    "3. **Average the results**: After testing on all folds, it calculates the average performance or standard deviation."
   ]
  }
 ],
 "metadata": {
  "kernelspec": {
   "display_name": "base",
   "language": "python",
   "name": "python3"
  },
  "language_info": {
   "codemirror_mode": {
    "name": "ipython",
    "version": 3
   },
   "file_extension": ".py",
   "mimetype": "text/x-python",
   "name": "python",
   "nbconvert_exporter": "python",
   "pygments_lexer": "ipython3",
   "version": "3.9.20"
  }
 },
 "nbformat": 4,
 "nbformat_minor": 2
}
